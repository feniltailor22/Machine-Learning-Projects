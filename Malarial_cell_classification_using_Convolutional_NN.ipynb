{
  "nbformat": 4,
  "nbformat_minor": 0,
  "metadata": {
    "colab": {
      "name": "Malarial cell classification using Convolutional NN.ipynb",
      "provenance": [],
      "collapsed_sections": [],
      "mount_file_id": "1VXrV__NBmB8A7Lfmc9Rh9E0ijpuJRloP",
      "authorship_tag": "ABX9TyNob45hE+BbCdRG3PWXplr7",
      "include_colab_link": true
    },
    "kernelspec": {
      "name": "python3",
      "display_name": "Python 3"
    },
    "language_info": {
      "name": "python"
    },
    "accelerator": "TPU"
  },
  "cells": [
    {
      "cell_type": "markdown",
      "metadata": {
        "id": "view-in-github",
        "colab_type": "text"
      },
      "source": [
        "<a href=\"https://colab.research.google.com/github/feniltailor22/Machine_Learning/blob/main/Malarial_cell_classification_using_Convolutional_NN.ipynb\" target=\"_parent\"><img src=\"https://colab.research.google.com/assets/colab-badge.svg\" alt=\"Open In Colab\"/></a>"
      ]
    },
    {
      "cell_type": "code",
      "metadata": {
        "id": "TPvY5-2_NNUo"
      },
      "source": [
        "import numpy as np\n",
        "import cv2\n",
        "import os\n",
        "import pandas as pd\n",
        "from PIL import Image #for resize"
      ],
      "execution_count": 2,
      "outputs": []
    },
    {
      "cell_type": "code",
      "metadata": {
        "id": "Gk1GkTbINvV4"
      },
      "source": [
        "image_directory= '/content/drive/MyDrive/cell_images/'"
      ],
      "execution_count": 3,
      "outputs": []
    },
    {
      "cell_type": "code",
      "metadata": {
        "id": "me0e90axRoMY"
      },
      "source": [
        "SIZE= 64"
      ],
      "execution_count": 4,
      "outputs": []
    },
    {
      "cell_type": "code",
      "metadata": {
        "id": "vp6PxvycRvFe"
      },
      "source": [
        "dataset= []\n",
        "label= []"
      ],
      "execution_count": 5,
      "outputs": []
    },
    {
      "cell_type": "code",
      "metadata": {
        "id": "XYpGRBbnR95U"
      },
      "source": [
        "parasitized_img= os.listdir(image_directory+ 'Parasitized/Train/')"
      ],
      "execution_count": 6,
      "outputs": []
    },
    {
      "cell_type": "code",
      "metadata": {
        "id": "UWMIJ6fyXuXt"
      },
      "source": [
        "for i, image_name in enumerate(parasitized_img):\n",
        "  if (image_name.split('.')[1]== 'png'):\n",
        "    image= cv2.imread(image_directory+ 'Parasitized/Train/' + image_name)\n",
        "    image= Image.fromarray(image, 'RGB')\n",
        "    image= image.resize((SIZE,SIZE))\n",
        "    dataset.append(np.array(image))\n",
        "    label.append(0)\n",
        "    \n",
        "    #Call PIL.image.fromarray(obj, mode) with obj as a 3-D array and mode as \"RGB\" to convert obj into an image."
      ],
      "execution_count": 7,
      "outputs": []
    },
    {
      "cell_type": "code",
      "metadata": {
        "id": "6uY6awVFeDjU"
      },
      "source": [
        "uninfected_img= os.listdir(image_directory+ 'Uninfected/Train/')"
      ],
      "execution_count": 8,
      "outputs": []
    },
    {
      "cell_type": "code",
      "metadata": {
        "id": "A0TaBa2YeUA-"
      },
      "source": [
        "for i, image_name in enumerate(uninfected_img):\n",
        "  if (image_name.split('.')[1]== 'png'):\n",
        "    image= cv2.imread(image_directory+ 'Uninfected/Train/'+ image_name)\n",
        "    image= Image.fromarray(image, 'RGB')\n",
        "    image= image.resize((SIZE, SIZE))\n",
        "    dataset.append(np.array(image))\n",
        "    label.append(1)"
      ],
      "execution_count": 9,
      "outputs": []
    },
    {
      "cell_type": "code",
      "metadata": {
        "id": "pFZjHVKyfL1F"
      },
      "source": [
        "#Building the model"
      ],
      "execution_count": 10,
      "outputs": []
    },
    {
      "cell_type": "code",
      "metadata": {
        "id": "2RlDsDU-f9lM"
      },
      "source": [
        "from tensorflow.keras.models import Sequential\n",
        "from tensorflow.keras.layers import Conv2D, MaxPool2D, BatchNormalization, Dropout, Flatten, Dense, Dense"
      ],
      "execution_count": 11,
      "outputs": []
    },
    {
      "cell_type": "code",
      "metadata": {
        "id": "4R9B7DULgqpW"
      },
      "source": [
        "model= Sequential()\n",
        "\n",
        "model.add(Conv2D(filters=32, kernel_size=(3,3), input_shape= (SIZE, SIZE, 3), activation='relu'))\n",
        "model.add(MaxPool2D(pool_size=(2,2)))\n",
        "model.add(BatchNormalization(axis= -1))\n",
        "model.add(Dropout(rate= 0.2))\n",
        "\n",
        "model.add(Conv2D(filters=32, kernel_size=(3,3), activation='relu'))\n",
        "model.add(MaxPool2D(pool_size=(2,2)))\n",
        "model.add(BatchNormalization(axis= -1))\n",
        "model.add(Dropout(rate= 0.2))\n",
        "\n",
        "model.add(Flatten())\n",
        "\n",
        "model.add(Dense(units=512, activation='relu'))\n",
        "model.add(BatchNormalization(axis= -1))\n",
        "model.add(Dropout(rate= 0.2))\n",
        "\n",
        "model.add(Dense(units=256, activation='relu'))\n",
        "model.add(BatchNormalization(axis= -1))\n",
        "model.add(Dropout(rate= 0.2))\n",
        "\n",
        "model.add(Dense(units=2, activation='sigmoid'))\n",
        "\n",
        "model.compile(loss='binary_crossentropy', optimizer='adam', metrics=['accuracy'])"
      ],
      "execution_count": 48,
      "outputs": []
    },
    {
      "cell_type": "code",
      "metadata": {
        "colab": {
          "base_uri": "https://localhost:8080/"
        },
        "id": "2HIgd45ciV4u",
        "outputId": "38e2dbe0-bd2e-4d7e-d339-04d8d7d2d832"
      },
      "source": [
        "model.summary()"
      ],
      "execution_count": 49,
      "outputs": [
        {
          "output_type": "stream",
          "name": "stdout",
          "text": [
            "Model: \"sequential_1\"\n",
            "_________________________________________________________________\n",
            " Layer (type)                Output Shape              Param #   \n",
            "=================================================================\n",
            " conv2d_2 (Conv2D)           (None, 62, 62, 32)        896       \n",
            "                                                                 \n",
            " max_pooling2d_2 (MaxPooling  (None, 31, 31, 32)       0         \n",
            " 2D)                                                             \n",
            "                                                                 \n",
            " batch_normalization_4 (Batc  (None, 31, 31, 32)       128       \n",
            " hNormalization)                                                 \n",
            "                                                                 \n",
            " dropout_4 (Dropout)         (None, 31, 31, 32)        0         \n",
            "                                                                 \n",
            " conv2d_3 (Conv2D)           (None, 29, 29, 32)        9248      \n",
            "                                                                 \n",
            " max_pooling2d_3 (MaxPooling  (None, 14, 14, 32)       0         \n",
            " 2D)                                                             \n",
            "                                                                 \n",
            " batch_normalization_5 (Batc  (None, 14, 14, 32)       128       \n",
            " hNormalization)                                                 \n",
            "                                                                 \n",
            " dropout_5 (Dropout)         (None, 14, 14, 32)        0         \n",
            "                                                                 \n",
            " flatten_1 (Flatten)         (None, 6272)              0         \n",
            "                                                                 \n",
            " dense_3 (Dense)             (None, 512)               3211776   \n",
            "                                                                 \n",
            " batch_normalization_6 (Batc  (None, 512)              2048      \n",
            " hNormalization)                                                 \n",
            "                                                                 \n",
            " dropout_6 (Dropout)         (None, 512)               0         \n",
            "                                                                 \n",
            " dense_4 (Dense)             (None, 256)               131328    \n",
            "                                                                 \n",
            " batch_normalization_7 (Batc  (None, 256)              1024      \n",
            " hNormalization)                                                 \n",
            "                                                                 \n",
            " dropout_7 (Dropout)         (None, 256)               0         \n",
            "                                                                 \n",
            " dense_5 (Dense)             (None, 2)                 514       \n",
            "                                                                 \n",
            "=================================================================\n",
            "Total params: 3,357,090\n",
            "Trainable params: 3,355,426\n",
            "Non-trainable params: 1,664\n",
            "_________________________________________________________________\n"
          ]
        }
      ]
    },
    {
      "cell_type": "code",
      "metadata": {
        "id": "P6Opt33fi_ys"
      },
      "source": [
        "from sklearn.model_selection import train_test_split\n",
        "\n",
        "#Applying one-hot encoding to y_train data as Machine cannot understand categories.\n",
        "from tensorflow.keras.utils import to_categorical"
      ],
      "execution_count": 50,
      "outputs": []
    },
    {
      "cell_type": "code",
      "metadata": {
        "id": "VGDDZTB-jH0G"
      },
      "source": [
        "x_train, x_test, y_train, y_test= train_test_split(dataset, to_categorical(np.array(label)), test_size=0.20, random_state=0)"
      ],
      "execution_count": 51,
      "outputs": []
    },
    {
      "cell_type": "code",
      "metadata": {
        "id": "pMTgWxJNiXBX"
      },
      "source": [
        "from tensorflow.keras.callbacks import EarlyStopping"
      ],
      "execution_count": 52,
      "outputs": []
    },
    {
      "cell_type": "code",
      "metadata": {
        "id": "aNxA68Q5icX4"
      },
      "source": [
        "early_stop= EarlyStopping(monitor='val_loss',patience=5)"
      ],
      "execution_count": 53,
      "outputs": []
    },
    {
      "cell_type": "code",
      "metadata": {
        "colab": {
          "base_uri": "https://localhost:8080/"
        },
        "id": "gwb-V_V3ifvE",
        "outputId": "bf735182-1dd1-4085-fce5-7513d74a649a"
      },
      "source": [
        "model.fit(x=np.array(x_train),\n",
        "          y=y_train,\n",
        "          epochs=25,\n",
        "          batch_size=64,\n",
        "          validation_split= 0.1,\n",
        "          verbose=True,\n",
        "          shuffle= False,\n",
        "          callbacks=[early_stop]\n",
        "          )"
      ],
      "execution_count": 61,
      "outputs": [
        {
          "output_type": "stream",
          "name": "stdout",
          "text": [
            "Epoch 1/25\n",
            "20/20 [==============================] - 7s 334ms/step - loss: 0.0232 - accuracy: 0.9920 - val_loss: 0.4123 - val_accuracy: 0.9353\n",
            "Epoch 2/25\n",
            "20/20 [==============================] - 7s 330ms/step - loss: 0.0158 - accuracy: 0.9952 - val_loss: 0.1624 - val_accuracy: 0.9353\n",
            "Epoch 3/25\n",
            "20/20 [==============================] - 7s 331ms/step - loss: 0.0181 - accuracy: 0.9928 - val_loss: 1.3147 - val_accuracy: 0.6547\n",
            "Epoch 4/25\n",
            "20/20 [==============================] - 7s 331ms/step - loss: 0.0158 - accuracy: 0.9936 - val_loss: 0.2146 - val_accuracy: 0.9424\n",
            "Epoch 5/25\n",
            "20/20 [==============================] - 7s 332ms/step - loss: 0.0115 - accuracy: 0.9952 - val_loss: 0.8183 - val_accuracy: 0.7554\n",
            "Epoch 6/25\n",
            "20/20 [==============================] - 7s 333ms/step - loss: 0.0108 - accuracy: 0.9968 - val_loss: 0.4419 - val_accuracy: 0.9209\n",
            "Epoch 7/25\n",
            "20/20 [==============================] - 7s 333ms/step - loss: 0.0064 - accuracy: 0.9984 - val_loss: 0.1548 - val_accuracy: 0.9424\n",
            "Epoch 8/25\n",
            "20/20 [==============================] - 7s 333ms/step - loss: 0.0099 - accuracy: 0.9984 - val_loss: 0.2624 - val_accuracy: 0.9281\n",
            "Epoch 9/25\n",
            "20/20 [==============================] - 7s 331ms/step - loss: 0.0158 - accuracy: 0.9952 - val_loss: 2.3423 - val_accuracy: 0.6763\n",
            "Epoch 10/25\n",
            "20/20 [==============================] - 7s 336ms/step - loss: 0.0100 - accuracy: 0.9960 - val_loss: 2.2484 - val_accuracy: 0.6331\n",
            "Epoch 11/25\n",
            "20/20 [==============================] - 7s 332ms/step - loss: 0.0160 - accuracy: 0.9936 - val_loss: 0.3684 - val_accuracy: 0.9353\n",
            "Epoch 12/25\n",
            "20/20 [==============================] - 7s 332ms/step - loss: 0.0128 - accuracy: 0.9984 - val_loss: 0.5488 - val_accuracy: 0.9209\n"
          ]
        },
        {
          "output_type": "execute_result",
          "data": {
            "text/plain": [
              "<keras.callbacks.History at 0x7f0596c647d0>"
            ]
          },
          "metadata": {},
          "execution_count": 61
        }
      ]
    },
    {
      "cell_type": "code",
      "metadata": {
        "id": "eMcJCJXUkaoM"
      },
      "source": [
        "losses= pd.DataFrame(data=model.history.history)"
      ],
      "execution_count": 62,
      "outputs": []
    },
    {
      "cell_type": "code",
      "metadata": {
        "colab": {
          "base_uri": "https://localhost:8080/",
          "height": 204
        },
        "id": "vIJUue33lJBe",
        "outputId": "77651c51-c783-45ab-a728-0d0b5b671f5b"
      },
      "source": [
        "losses.head()"
      ],
      "execution_count": 63,
      "outputs": [
        {
          "output_type": "execute_result",
          "data": {
            "text/html": [
              "<div>\n",
              "<style scoped>\n",
              "    .dataframe tbody tr th:only-of-type {\n",
              "        vertical-align: middle;\n",
              "    }\n",
              "\n",
              "    .dataframe tbody tr th {\n",
              "        vertical-align: top;\n",
              "    }\n",
              "\n",
              "    .dataframe thead th {\n",
              "        text-align: right;\n",
              "    }\n",
              "</style>\n",
              "<table border=\"1\" class=\"dataframe\">\n",
              "  <thead>\n",
              "    <tr style=\"text-align: right;\">\n",
              "      <th></th>\n",
              "      <th>loss</th>\n",
              "      <th>accuracy</th>\n",
              "      <th>val_loss</th>\n",
              "      <th>val_accuracy</th>\n",
              "    </tr>\n",
              "  </thead>\n",
              "  <tbody>\n",
              "    <tr>\n",
              "      <th>0</th>\n",
              "      <td>0.023198</td>\n",
              "      <td>0.991994</td>\n",
              "      <td>0.412263</td>\n",
              "      <td>0.935252</td>\n",
              "    </tr>\n",
              "    <tr>\n",
              "      <th>1</th>\n",
              "      <td>0.015835</td>\n",
              "      <td>0.995196</td>\n",
              "      <td>0.162397</td>\n",
              "      <td>0.935252</td>\n",
              "    </tr>\n",
              "    <tr>\n",
              "      <th>2</th>\n",
              "      <td>0.018121</td>\n",
              "      <td>0.992794</td>\n",
              "      <td>1.314736</td>\n",
              "      <td>0.654676</td>\n",
              "    </tr>\n",
              "    <tr>\n",
              "      <th>3</th>\n",
              "      <td>0.015823</td>\n",
              "      <td>0.993595</td>\n",
              "      <td>0.214562</td>\n",
              "      <td>0.942446</td>\n",
              "    </tr>\n",
              "    <tr>\n",
              "      <th>4</th>\n",
              "      <td>0.011546</td>\n",
              "      <td>0.995196</td>\n",
              "      <td>0.818268</td>\n",
              "      <td>0.755396</td>\n",
              "    </tr>\n",
              "  </tbody>\n",
              "</table>\n",
              "</div>"
            ],
            "text/plain": [
              "       loss  accuracy  val_loss  val_accuracy\n",
              "0  0.023198  0.991994  0.412263      0.935252\n",
              "1  0.015835  0.995196  0.162397      0.935252\n",
              "2  0.018121  0.992794  1.314736      0.654676\n",
              "3  0.015823  0.993595  0.214562      0.942446\n",
              "4  0.011546  0.995196  0.818268      0.755396"
            ]
          },
          "metadata": {},
          "execution_count": 63
        }
      ]
    },
    {
      "cell_type": "code",
      "metadata": {
        "colab": {
          "base_uri": "https://localhost:8080/",
          "height": 282
        },
        "id": "5eztxpaJlMIV",
        "outputId": "dd64b6a2-1288-4f44-f6ef-a67066153786"
      },
      "source": [
        "losses[['accuracy','val_accuracy']].plot()"
      ],
      "execution_count": 64,
      "outputs": [
        {
          "output_type": "execute_result",
          "data": {
            "text/plain": [
              "<matplotlib.axes._subplots.AxesSubplot at 0x7f0596ddbf50>"
            ]
          },
          "metadata": {},
          "execution_count": 64
        },
        {
          "output_type": "display_data",
          "data": {
            "image/png": "[encoded data removed]",
            "text/plain": [
              "<Figure size 432x288 with 1 Axes>"
            ]
          },
          "metadata": {
            "needs_background": "light"
          }
        }
      ]
    },
    {
      "cell_type": "code",
      "metadata": {
        "colab": {
          "base_uri": "https://localhost:8080/",
          "height": 282
        },
        "id": "hFbLRakXlRq_",
        "outputId": "956cca5a-2884-4ca4-886c-80bded1c7564"
      },
      "source": [
        "losses[['loss','val_loss']].plot()"
      ],
      "execution_count": 65,
      "outputs": [
        {
          "output_type": "execute_result",
          "data": {
            "text/plain": [
              "<matplotlib.axes._subplots.AxesSubplot at 0x7f0596c7f110>"
            ]
          },
          "metadata": {},
          "execution_count": 65
        },
        {
          "output_type": "display_data",
          "data": {
            "image/png": "[encoded data removed]",
            "text/plain": [
              "<Figure size 432x288 with 1 Axes>"
            ]
          },
          "metadata": {
            "needs_background": "light"
          }
        }
      ]
    },
    {
      "cell_type": "code",
      "metadata": {
        "colab": {
          "base_uri": "https://localhost:8080/"
        },
        "id": "I9D4WTe-lwJK",
        "outputId": "2a8514cb-8973-44d4-dd9b-04fba06e097a"
      },
      "source": [
        "model.evaluate(np.array(x_test), np.array(y_test))"
      ],
      "execution_count": 66,
      "outputs": [
        {
          "output_type": "stream",
          "name": "stdout",
          "text": [
            "11/11 [==============================] - 1s 48ms/step - loss: 0.6409 - accuracy: 0.9164\n"
          ]
        },
        {
          "output_type": "execute_result",
          "data": {
            "text/plain": [
              "[0.6409347057342529, 0.9164265394210815]"
            ]
          },
          "metadata": {},
          "execution_count": 66
        }
      ]
    }
  ]
}