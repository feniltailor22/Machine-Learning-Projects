{
  "nbformat": 4,
  "nbformat_minor": 0,
  "metadata": {
    "colab": {
      "name": "Classification of Cancer Data using DNN.ipynb",
      "provenance": [],
      "collapsed_sections": [],
      "mount_file_id": "11suakSLFpETEva5llJzUwUfcd6oGkPpV",
      "authorship_tag": "ABX9TyMs5UEBfCMgigk1V1TmXrpY",
      "include_colab_link": true
    },
    "kernelspec": {
      "name": "python3",
      "display_name": "Python 3"
    },
    "language_info": {
      "name": "python"
    }
  },
  "cells": [
    {
      "cell_type": "markdown",
      "metadata": {
        "id": "view-in-github",
        "colab_type": "text"
      },
      "source": [
        "<a href=\"https://colab.research.google.com/github/feniltailor22/Machine-Learning-Projects/blob/main/Classification_of_Cancer_Data_using_DNN.ipynb\" target=\"_parent\"><img src=\"https://colab.research.google.com/assets/colab-badge.svg\" alt=\"Open In Colab\"/></a>"
      ]
    },
    {
      "cell_type": "code",
      "metadata": {
        "id": "-xHpgtPoHwmO"
      },
      "source": [
        "import pandas as pd\n",
        "import numpy as np\n",
        "import matplotlib.pyplot as plt\n",
        "import seaborn as sns"
      ],
      "execution_count": null,
      "outputs": []
    },
    {
      "cell_type": "code",
      "metadata": {
        "id": "W4lu4RBfI1-d"
      },
      "source": [
        "df= pd.read_csv('/content/cancer_classification.csv')"
      ],
      "execution_count": null,
      "outputs": []
    },
    {
      "cell_type": "code",
      "metadata": {
        "colab": {
          "base_uri": "https://localhost:8080/",
          "height": 258
        },
        "id": "F5k6mQQ_I9Cz",
        "outputId": "2b7ad4ba-3ee5-4ea9-8afd-e79677160ac7"
      },
      "source": [
        "df.head()"
      ],
      "execution_count": null,
      "outputs": [
        {
          "output_type": "execute_result",
          "data": {
            "text/html": [
              "<div>\n",
              "<style scoped>\n",
              "    .dataframe tbody tr th:only-of-type {\n",
              "        vertical-align: middle;\n",
              "    }\n",
              "\n",
              "    .dataframe tbody tr th {\n",
              "        vertical-align: top;\n",
              "    }\n",
              "\n",
              "    .dataframe thead th {\n",
              "        text-align: right;\n",
              "    }\n",
              "</style>\n",
              "<table border=\"1\" class=\"dataframe\">\n",
              "  <thead>\n",
              "    <tr style=\"text-align: right;\">\n",
              "      <th></th>\n",
              "      <th>mean radius</th>\n",
              "      <th>mean texture</th>\n",
              "      <th>mean perimeter</th>\n",
              "      <th>mean area</th>\n",
              "      <th>mean smoothness</th>\n",
              "      <th>mean compactness</th>\n",
              "      <th>mean concavity</th>\n",
              "      <th>mean concave points</th>\n",
              "      <th>mean symmetry</th>\n",
              "      <th>mean fractal dimension</th>\n",
              "      <th>radius error</th>\n",
              "      <th>texture error</th>\n",
              "      <th>perimeter error</th>\n",
              "      <th>area error</th>\n",
              "      <th>smoothness error</th>\n",
              "      <th>compactness error</th>\n",
              "      <th>concavity error</th>\n",
              "      <th>concave points error</th>\n",
              "      <th>symmetry error</th>\n",
              "      <th>fractal dimension error</th>\n",
              "      <th>worst radius</th>\n",
              "      <th>worst texture</th>\n",
              "      <th>worst perimeter</th>\n",
              "      <th>worst area</th>\n",
              "      <th>worst smoothness</th>\n",
              "      <th>worst compactness</th>\n",
              "      <th>worst concavity</th>\n",
              "      <th>worst concave points</th>\n",
              "      <th>worst symmetry</th>\n",
              "      <th>worst fractal dimension</th>\n",
              "      <th>benign_0__mal_1</th>\n",
              "    </tr>\n",
              "  </thead>\n",
              "  <tbody>\n",
              "    <tr>\n",
              "      <th>0</th>\n",
              "      <td>17.99</td>\n",
              "      <td>10.38</td>\n",
              "      <td>122.80</td>\n",
              "      <td>1001.0</td>\n",
              "      <td>0.11840</td>\n",
              "      <td>0.27760</td>\n",
              "      <td>0.3001</td>\n",
              "      <td>0.14710</td>\n",
              "      <td>0.2419</td>\n",
              "      <td>0.07871</td>\n",
              "      <td>1.0950</td>\n",
              "      <td>0.9053</td>\n",
              "      <td>8.589</td>\n",
              "      <td>153.40</td>\n",
              "      <td>0.006399</td>\n",
              "      <td>0.04904</td>\n",
              "      <td>0.05373</td>\n",
              "      <td>0.01587</td>\n",
              "      <td>0.03003</td>\n",
              "      <td>0.006193</td>\n",
              "      <td>25.38</td>\n",
              "      <td>17.33</td>\n",
              "      <td>184.60</td>\n",
              "      <td>2019.0</td>\n",
              "      <td>0.1622</td>\n",
              "      <td>0.6656</td>\n",
              "      <td>0.7119</td>\n",
              "      <td>0.2654</td>\n",
              "      <td>0.4601</td>\n",
              "      <td>0.11890</td>\n",
              "      <td>0</td>\n",
              "    </tr>\n",
              "    <tr>\n",
              "      <th>1</th>\n",
              "      <td>20.57</td>\n",
              "      <td>17.77</td>\n",
              "      <td>132.90</td>\n",
              "      <td>1326.0</td>\n",
              "      <td>0.08474</td>\n",
              "      <td>0.07864</td>\n",
              "      <td>0.0869</td>\n",
              "      <td>0.07017</td>\n",
              "      <td>0.1812</td>\n",
              "      <td>0.05667</td>\n",
              "      <td>0.5435</td>\n",
              "      <td>0.7339</td>\n",
              "      <td>3.398</td>\n",
              "      <td>74.08</td>\n",
              "      <td>0.005225</td>\n",
              "      <td>0.01308</td>\n",
              "      <td>0.01860</td>\n",
              "      <td>0.01340</td>\n",
              "      <td>0.01389</td>\n",
              "      <td>0.003532</td>\n",
              "      <td>24.99</td>\n",
              "      <td>23.41</td>\n",
              "      <td>158.80</td>\n",
              "      <td>1956.0</td>\n",
              "      <td>0.1238</td>\n",
              "      <td>0.1866</td>\n",
              "      <td>0.2416</td>\n",
              "      <td>0.1860</td>\n",
              "      <td>0.2750</td>\n",
              "      <td>0.08902</td>\n",
              "      <td>0</td>\n",
              "    </tr>\n",
              "    <tr>\n",
              "      <th>2</th>\n",
              "      <td>19.69</td>\n",
              "      <td>21.25</td>\n",
              "      <td>130.00</td>\n",
              "      <td>1203.0</td>\n",
              "      <td>0.10960</td>\n",
              "      <td>0.15990</td>\n",
              "      <td>0.1974</td>\n",
              "      <td>0.12790</td>\n",
              "      <td>0.2069</td>\n",
              "      <td>0.05999</td>\n",
              "      <td>0.7456</td>\n",
              "      <td>0.7869</td>\n",
              "      <td>4.585</td>\n",
              "      <td>94.03</td>\n",
              "      <td>0.006150</td>\n",
              "      <td>0.04006</td>\n",
              "      <td>0.03832</td>\n",
              "      <td>0.02058</td>\n",
              "      <td>0.02250</td>\n",
              "      <td>0.004571</td>\n",
              "      <td>23.57</td>\n",
              "      <td>25.53</td>\n",
              "      <td>152.50</td>\n",
              "      <td>1709.0</td>\n",
              "      <td>0.1444</td>\n",
              "      <td>0.4245</td>\n",
              "      <td>0.4504</td>\n",
              "      <td>0.2430</td>\n",
              "      <td>0.3613</td>\n",
              "      <td>0.08758</td>\n",
              "      <td>0</td>\n",
              "    </tr>\n",
              "    <tr>\n",
              "      <th>3</th>\n",
              "      <td>11.42</td>\n",
              "      <td>20.38</td>\n",
              "      <td>77.58</td>\n",
              "      <td>386.1</td>\n",
              "      <td>0.14250</td>\n",
              "      <td>0.28390</td>\n",
              "      <td>0.2414</td>\n",
              "      <td>0.10520</td>\n",
              "      <td>0.2597</td>\n",
              "      <td>0.09744</td>\n",
              "      <td>0.4956</td>\n",
              "      <td>1.1560</td>\n",
              "      <td>3.445</td>\n",
              "      <td>27.23</td>\n",
              "      <td>0.009110</td>\n",
              "      <td>0.07458</td>\n",
              "      <td>0.05661</td>\n",
              "      <td>0.01867</td>\n",
              "      <td>0.05963</td>\n",
              "      <td>0.009208</td>\n",
              "      <td>14.91</td>\n",
              "      <td>26.50</td>\n",
              "      <td>98.87</td>\n",
              "      <td>567.7</td>\n",
              "      <td>0.2098</td>\n",
              "      <td>0.8663</td>\n",
              "      <td>0.6869</td>\n",
              "      <td>0.2575</td>\n",
              "      <td>0.6638</td>\n",
              "      <td>0.17300</td>\n",
              "      <td>0</td>\n",
              "    </tr>\n",
              "    <tr>\n",
              "      <th>4</th>\n",
              "      <td>20.29</td>\n",
              "      <td>14.34</td>\n",
              "      <td>135.10</td>\n",
              "      <td>1297.0</td>\n",
              "      <td>0.10030</td>\n",
              "      <td>0.13280</td>\n",
              "      <td>0.1980</td>\n",
              "      <td>0.10430</td>\n",
              "      <td>0.1809</td>\n",
              "      <td>0.05883</td>\n",
              "      <td>0.7572</td>\n",
              "      <td>0.7813</td>\n",
              "      <td>5.438</td>\n",
              "      <td>94.44</td>\n",
              "      <td>0.011490</td>\n",
              "      <td>0.02461</td>\n",
              "      <td>0.05688</td>\n",
              "      <td>0.01885</td>\n",
              "      <td>0.01756</td>\n",
              "      <td>0.005115</td>\n",
              "      <td>22.54</td>\n",
              "      <td>16.67</td>\n",
              "      <td>152.20</td>\n",
              "      <td>1575.0</td>\n",
              "      <td>0.1374</td>\n",
              "      <td>0.2050</td>\n",
              "      <td>0.4000</td>\n",
              "      <td>0.1625</td>\n",
              "      <td>0.2364</td>\n",
              "      <td>0.07678</td>\n",
              "      <td>0</td>\n",
              "    </tr>\n",
              "  </tbody>\n",
              "</table>\n",
              "</div>"
            ],
            "text/plain": [
              "   mean radius  mean texture  ...  worst fractal dimension  benign_0__mal_1\n",
              "0        17.99         10.38  ...                  0.11890                0\n",
              "1        20.57         17.77  ...                  0.08902                0\n",
              "2        19.69         21.25  ...                  0.08758                0\n",
              "3        11.42         20.38  ...                  0.17300                0\n",
              "4        20.29         14.34  ...                  0.07678                0\n",
              "\n",
              "[5 rows x 31 columns]"
            ]
          },
          "metadata": {},
          "execution_count": 3
        }
      ]
    },
    {
      "cell_type": "code",
      "metadata": {
        "colab": {
          "base_uri": "https://localhost:8080/"
        },
        "id": "DkgVEiBzI-c7",
        "outputId": "29c52754-af48-4937-c775-8878321bb563"
      },
      "source": [
        "df.info()"
      ],
      "execution_count": null,
      "outputs": [
        {
          "output_type": "stream",
          "text": [
            "<class 'pandas.core.frame.DataFrame'>\n",
            "RangeIndex: 569 entries, 0 to 568\n",
            "Data columns (total 31 columns):\n",
            " #   Column                   Non-Null Count  Dtype  \n",
            "---  ------                   --------------  -----  \n",
            " 0   mean radius              569 non-null    float64\n",
            " 1   mean texture             569 non-null    float64\n",
            " 2   mean perimeter           569 non-null    float64\n",
            " 3   mean area                569 non-null    float64\n",
            " 4   mean smoothness          569 non-null    float64\n",
            " 5   mean compactness         569 non-null    float64\n",
            " 6   mean concavity           569 non-null    float64\n",
            " 7   mean concave points      569 non-null    float64\n",
            " 8   mean symmetry            569 non-null    float64\n",
            " 9   mean fractal dimension   569 non-null    float64\n",
            " 10  radius error             569 non-null    float64\n",
            " 11  texture error            569 non-null    float64\n",
            " 12  perimeter error          569 non-null    float64\n",
            " 13  area error               569 non-null    float64\n",
            " 14  smoothness error         569 non-null    float64\n",
            " 15  compactness error        569 non-null    float64\n",
            " 16  concavity error          569 non-null    float64\n",
            " 17  concave points error     569 non-null    float64\n",
            " 18  symmetry error           569 non-null    float64\n",
            " 19  fractal dimension error  569 non-null    float64\n",
            " 20  worst radius             569 non-null    float64\n",
            " 21  worst texture            569 non-null    float64\n",
            " 22  worst perimeter          569 non-null    float64\n",
            " 23  worst area               569 non-null    float64\n",
            " 24  worst smoothness         569 non-null    float64\n",
            " 25  worst compactness        569 non-null    float64\n",
            " 26  worst concavity          569 non-null    float64\n",
            " 27  worst concave points     569 non-null    float64\n",
            " 28  worst symmetry           569 non-null    float64\n",
            " 29  worst fractal dimension  569 non-null    float64\n",
            " 30  benign_0__mal_1          569 non-null    int64  \n",
            "dtypes: float64(30), int64(1)\n",
            "memory usage: 137.9 KB\n"
          ],
          "name": "stdout"
        }
      ]
    },
    {
      "cell_type": "code",
      "metadata": {
        "colab": {
          "base_uri": "https://localhost:8080/",
          "height": 351
        },
        "id": "-K_9RavZJIG3",
        "outputId": "ea7c2e34-58f4-4af5-d060-22d4b7efd200"
      },
      "source": [
        "df.describe()"
      ],
      "execution_count": null,
      "outputs": [
        {
          "output_type": "execute_result",
          "data": {
            "text/html": [
              "<div>\n",
              "<style scoped>\n",
              "    .dataframe tbody tr th:only-of-type {\n",
              "        vertical-align: middle;\n",
              "    }\n",
              "\n",
              "    .dataframe tbody tr th {\n",
              "        vertical-align: top;\n",
              "    }\n",
              "\n",
              "    .dataframe thead th {\n",
              "        text-align: right;\n",
              "    }\n",
              "</style>\n",
              "<table border=\"1\" class=\"dataframe\">\n",
              "  <thead>\n",
              "    <tr style=\"text-align: right;\">\n",
              "      <th></th>\n",
              "      <th>mean radius</th>\n",
              "      <th>mean texture</th>\n",
              "      <th>mean perimeter</th>\n",
              "      <th>mean area</th>\n",
              "      <th>mean smoothness</th>\n",
              "      <th>mean compactness</th>\n",
              "      <th>mean concavity</th>\n",
              "      <th>mean concave points</th>\n",
              "      <th>mean symmetry</th>\n",
              "      <th>mean fractal dimension</th>\n",
              "      <th>radius error</th>\n",
              "      <th>texture error</th>\n",
              "      <th>perimeter error</th>\n",
              "      <th>area error</th>\n",
              "      <th>smoothness error</th>\n",
              "      <th>compactness error</th>\n",
              "      <th>concavity error</th>\n",
              "      <th>concave points error</th>\n",
              "      <th>symmetry error</th>\n",
              "      <th>fractal dimension error</th>\n",
              "      <th>worst radius</th>\n",
              "      <th>worst texture</th>\n",
              "      <th>worst perimeter</th>\n",
              "      <th>worst area</th>\n",
              "      <th>worst smoothness</th>\n",
              "      <th>worst compactness</th>\n",
              "      <th>worst concavity</th>\n",
              "      <th>worst concave points</th>\n",
              "      <th>worst symmetry</th>\n",
              "      <th>worst fractal dimension</th>\n",
              "      <th>benign_0__mal_1</th>\n",
              "    </tr>\n",
              "  </thead>\n",
              "  <tbody>\n",
              "    <tr>\n",
              "      <th>count</th>\n",
              "      <td>569.000000</td>\n",
              "      <td>569.000000</td>\n",
              "      <td>569.000000</td>\n",
              "      <td>569.000000</td>\n",
              "      <td>569.000000</td>\n",
              "      <td>569.000000</td>\n",
              "      <td>569.000000</td>\n",
              "      <td>569.000000</td>\n",
              "      <td>569.000000</td>\n",
              "      <td>569.000000</td>\n",
              "      <td>569.000000</td>\n",
              "      <td>569.000000</td>\n",
              "      <td>569.000000</td>\n",
              "      <td>569.000000</td>\n",
              "      <td>569.000000</td>\n",
              "      <td>569.000000</td>\n",
              "      <td>569.000000</td>\n",
              "      <td>569.000000</td>\n",
              "      <td>569.000000</td>\n",
              "      <td>569.000000</td>\n",
              "      <td>569.000000</td>\n",
              "      <td>569.000000</td>\n",
              "      <td>569.000000</td>\n",
              "      <td>569.000000</td>\n",
              "      <td>569.000000</td>\n",
              "      <td>569.000000</td>\n",
              "      <td>569.000000</td>\n",
              "      <td>569.000000</td>\n",
              "      <td>569.000000</td>\n",
              "      <td>569.000000</td>\n",
              "      <td>569.000000</td>\n",
              "    </tr>\n",
              "    <tr>\n",
              "      <th>mean</th>\n",
              "      <td>14.127292</td>\n",
              "      <td>19.289649</td>\n",
              "      <td>91.969033</td>\n",
              "      <td>654.889104</td>\n",
              "      <td>0.096360</td>\n",
              "      <td>0.104341</td>\n",
              "      <td>0.088799</td>\n",
              "      <td>0.048919</td>\n",
              "      <td>0.181162</td>\n",
              "      <td>0.062798</td>\n",
              "      <td>0.405172</td>\n",
              "      <td>1.216853</td>\n",
              "      <td>2.866059</td>\n",
              "      <td>40.337079</td>\n",
              "      <td>0.007041</td>\n",
              "      <td>0.025478</td>\n",
              "      <td>0.031894</td>\n",
              "      <td>0.011796</td>\n",
              "      <td>0.020542</td>\n",
              "      <td>0.003795</td>\n",
              "      <td>16.269190</td>\n",
              "      <td>25.677223</td>\n",
              "      <td>107.261213</td>\n",
              "      <td>880.583128</td>\n",
              "      <td>0.132369</td>\n",
              "      <td>0.254265</td>\n",
              "      <td>0.272188</td>\n",
              "      <td>0.114606</td>\n",
              "      <td>0.290076</td>\n",
              "      <td>0.083946</td>\n",
              "      <td>0.627417</td>\n",
              "    </tr>\n",
              "    <tr>\n",
              "      <th>std</th>\n",
              "      <td>3.524049</td>\n",
              "      <td>4.301036</td>\n",
              "      <td>24.298981</td>\n",
              "      <td>351.914129</td>\n",
              "      <td>0.014064</td>\n",
              "      <td>0.052813</td>\n",
              "      <td>0.079720</td>\n",
              "      <td>0.038803</td>\n",
              "      <td>0.027414</td>\n",
              "      <td>0.007060</td>\n",
              "      <td>0.277313</td>\n",
              "      <td>0.551648</td>\n",
              "      <td>2.021855</td>\n",
              "      <td>45.491006</td>\n",
              "      <td>0.003003</td>\n",
              "      <td>0.017908</td>\n",
              "      <td>0.030186</td>\n",
              "      <td>0.006170</td>\n",
              "      <td>0.008266</td>\n",
              "      <td>0.002646</td>\n",
              "      <td>4.833242</td>\n",
              "      <td>6.146258</td>\n",
              "      <td>33.602542</td>\n",
              "      <td>569.356993</td>\n",
              "      <td>0.022832</td>\n",
              "      <td>0.157336</td>\n",
              "      <td>0.208624</td>\n",
              "      <td>0.065732</td>\n",
              "      <td>0.061867</td>\n",
              "      <td>0.018061</td>\n",
              "      <td>0.483918</td>\n",
              "    </tr>\n",
              "    <tr>\n",
              "      <th>min</th>\n",
              "      <td>6.981000</td>\n",
              "      <td>9.710000</td>\n",
              "      <td>43.790000</td>\n",
              "      <td>143.500000</td>\n",
              "      <td>0.052630</td>\n",
              "      <td>0.019380</td>\n",
              "      <td>0.000000</td>\n",
              "      <td>0.000000</td>\n",
              "      <td>0.106000</td>\n",
              "      <td>0.049960</td>\n",
              "      <td>0.111500</td>\n",
              "      <td>0.360200</td>\n",
              "      <td>0.757000</td>\n",
              "      <td>6.802000</td>\n",
              "      <td>0.001713</td>\n",
              "      <td>0.002252</td>\n",
              "      <td>0.000000</td>\n",
              "      <td>0.000000</td>\n",
              "      <td>0.007882</td>\n",
              "      <td>0.000895</td>\n",
              "      <td>7.930000</td>\n",
              "      <td>12.020000</td>\n",
              "      <td>50.410000</td>\n",
              "      <td>185.200000</td>\n",
              "      <td>0.071170</td>\n",
              "      <td>0.027290</td>\n",
              "      <td>0.000000</td>\n",
              "      <td>0.000000</td>\n",
              "      <td>0.156500</td>\n",
              "      <td>0.055040</td>\n",
              "      <td>0.000000</td>\n",
              "    </tr>\n",
              "    <tr>\n",
              "      <th>25%</th>\n",
              "      <td>11.700000</td>\n",
              "      <td>16.170000</td>\n",
              "      <td>75.170000</td>\n",
              "      <td>420.300000</td>\n",
              "      <td>0.086370</td>\n",
              "      <td>0.064920</td>\n",
              "      <td>0.029560</td>\n",
              "      <td>0.020310</td>\n",
              "      <td>0.161900</td>\n",
              "      <td>0.057700</td>\n",
              "      <td>0.232400</td>\n",
              "      <td>0.833900</td>\n",
              "      <td>1.606000</td>\n",
              "      <td>17.850000</td>\n",
              "      <td>0.005169</td>\n",
              "      <td>0.013080</td>\n",
              "      <td>0.015090</td>\n",
              "      <td>0.007638</td>\n",
              "      <td>0.015160</td>\n",
              "      <td>0.002248</td>\n",
              "      <td>13.010000</td>\n",
              "      <td>21.080000</td>\n",
              "      <td>84.110000</td>\n",
              "      <td>515.300000</td>\n",
              "      <td>0.116600</td>\n",
              "      <td>0.147200</td>\n",
              "      <td>0.114500</td>\n",
              "      <td>0.064930</td>\n",
              "      <td>0.250400</td>\n",
              "      <td>0.071460</td>\n",
              "      <td>0.000000</td>\n",
              "    </tr>\n",
              "    <tr>\n",
              "      <th>50%</th>\n",
              "      <td>13.370000</td>\n",
              "      <td>18.840000</td>\n",
              "      <td>86.240000</td>\n",
              "      <td>551.100000</td>\n",
              "      <td>0.095870</td>\n",
              "      <td>0.092630</td>\n",
              "      <td>0.061540</td>\n",
              "      <td>0.033500</td>\n",
              "      <td>0.179200</td>\n",
              "      <td>0.061540</td>\n",
              "      <td>0.324200</td>\n",
              "      <td>1.108000</td>\n",
              "      <td>2.287000</td>\n",
              "      <td>24.530000</td>\n",
              "      <td>0.006380</td>\n",
              "      <td>0.020450</td>\n",
              "      <td>0.025890</td>\n",
              "      <td>0.010930</td>\n",
              "      <td>0.018730</td>\n",
              "      <td>0.003187</td>\n",
              "      <td>14.970000</td>\n",
              "      <td>25.410000</td>\n",
              "      <td>97.660000</td>\n",
              "      <td>686.500000</td>\n",
              "      <td>0.131300</td>\n",
              "      <td>0.211900</td>\n",
              "      <td>0.226700</td>\n",
              "      <td>0.099930</td>\n",
              "      <td>0.282200</td>\n",
              "      <td>0.080040</td>\n",
              "      <td>1.000000</td>\n",
              "    </tr>\n",
              "    <tr>\n",
              "      <th>75%</th>\n",
              "      <td>15.780000</td>\n",
              "      <td>21.800000</td>\n",
              "      <td>104.100000</td>\n",
              "      <td>782.700000</td>\n",
              "      <td>0.105300</td>\n",
              "      <td>0.130400</td>\n",
              "      <td>0.130700</td>\n",
              "      <td>0.074000</td>\n",
              "      <td>0.195700</td>\n",
              "      <td>0.066120</td>\n",
              "      <td>0.478900</td>\n",
              "      <td>1.474000</td>\n",
              "      <td>3.357000</td>\n",
              "      <td>45.190000</td>\n",
              "      <td>0.008146</td>\n",
              "      <td>0.032450</td>\n",
              "      <td>0.042050</td>\n",
              "      <td>0.014710</td>\n",
              "      <td>0.023480</td>\n",
              "      <td>0.004558</td>\n",
              "      <td>18.790000</td>\n",
              "      <td>29.720000</td>\n",
              "      <td>125.400000</td>\n",
              "      <td>1084.000000</td>\n",
              "      <td>0.146000</td>\n",
              "      <td>0.339100</td>\n",
              "      <td>0.382900</td>\n",
              "      <td>0.161400</td>\n",
              "      <td>0.317900</td>\n",
              "      <td>0.092080</td>\n",
              "      <td>1.000000</td>\n",
              "    </tr>\n",
              "    <tr>\n",
              "      <th>max</th>\n",
              "      <td>28.110000</td>\n",
              "      <td>39.280000</td>\n",
              "      <td>188.500000</td>\n",
              "      <td>2501.000000</td>\n",
              "      <td>0.163400</td>\n",
              "      <td>0.345400</td>\n",
              "      <td>0.426800</td>\n",
              "      <td>0.201200</td>\n",
              "      <td>0.304000</td>\n",
              "      <td>0.097440</td>\n",
              "      <td>2.873000</td>\n",
              "      <td>4.885000</td>\n",
              "      <td>21.980000</td>\n",
              "      <td>542.200000</td>\n",
              "      <td>0.031130</td>\n",
              "      <td>0.135400</td>\n",
              "      <td>0.396000</td>\n",
              "      <td>0.052790</td>\n",
              "      <td>0.078950</td>\n",
              "      <td>0.029840</td>\n",
              "      <td>36.040000</td>\n",
              "      <td>49.540000</td>\n",
              "      <td>251.200000</td>\n",
              "      <td>4254.000000</td>\n",
              "      <td>0.222600</td>\n",
              "      <td>1.058000</td>\n",
              "      <td>1.252000</td>\n",
              "      <td>0.291000</td>\n",
              "      <td>0.663800</td>\n",
              "      <td>0.207500</td>\n",
              "      <td>1.000000</td>\n",
              "    </tr>\n",
              "  </tbody>\n",
              "</table>\n",
              "</div>"
            ],
            "text/plain": [
              "       mean radius  mean texture  ...  worst fractal dimension  benign_0__mal_1\n",
              "count   569.000000    569.000000  ...               569.000000       569.000000\n",
              "mean     14.127292     19.289649  ...                 0.083946         0.627417\n",
              "std       3.524049      4.301036  ...                 0.018061         0.483918\n",
              "min       6.981000      9.710000  ...                 0.055040         0.000000\n",
              "25%      11.700000     16.170000  ...                 0.071460         0.000000\n",
              "50%      13.370000     18.840000  ...                 0.080040         1.000000\n",
              "75%      15.780000     21.800000  ...                 0.092080         1.000000\n",
              "max      28.110000     39.280000  ...                 0.207500         1.000000\n",
              "\n",
              "[8 rows x 31 columns]"
            ]
          },
          "metadata": {},
          "execution_count": 5
        }
      ]
    },
    {
      "cell_type": "code",
      "metadata": {
        "colab": {
          "base_uri": "https://localhost:8080/",
          "height": 297
        },
        "id": "-vsd1bEzJRof",
        "outputId": "161a21d3-0acb-48f7-9b0c-d34afbc1621a"
      },
      "source": [
        "#EDA\n",
        "sns.countplot(x='benign_0__mal_1', data=df)"
      ],
      "execution_count": null,
      "outputs": [
        {
          "output_type": "execute_result",
          "data": {
            "text/plain": [
              "<matplotlib.axes._subplots.AxesSubplot at 0x7efcc44ad050>"
            ]
          },
          "metadata": {},
          "execution_count": 6
        },
        {
          "output_type": "display_data",
          "data": {
            "image/png": "[encoded data removed]",
            "text/plain": [
              "<Figure size 432x288 with 1 Axes>"
            ]
          },
          "metadata": {
            "needs_background": "light"
          }
        }
      ]
    },
    {
      "cell_type": "code",
      "metadata": {
        "colab": {
          "base_uri": "https://localhost:8080/",
          "height": 368
        },
        "id": "xywBd08VJyME",
        "outputId": "b346ce7e-bb0d-4333-b17c-09778d894981"
      },
      "source": [
        "#Checking the correlation with heatmap\n",
        "sns.heatmap(data=df.corr())"
      ],
      "execution_count": null,
      "outputs": [
        {
          "output_type": "execute_result",
          "data": {
            "text/plain": [
              "<matplotlib.axes._subplots.AxesSubplot at 0x7efcc3bcfad0>"
            ]
          },
          "metadata": {},
          "execution_count": 7
        },
        {
          "output_type": "display_data",
          "data": {
            "image/png": "[encoded data removed]",
            "text/plain": [
              "<Figure size 432x288 with 2 Axes>"
            ]
          },
          "metadata": {
            "needs_background": "light"
          }
        }
      ]
    },
    {
      "cell_type": "code",
      "metadata": {
        "colab": {
          "base_uri": "https://localhost:8080/"
        },
        "id": "vif3t5D8KIrg",
        "outputId": "4d8e6da7-6287-4c4f-9c38-046b6c366933"
      },
      "source": [
        "#Another method to check correlation\n",
        "df.corr()['benign_0__mal_1'].sort_values()"
      ],
      "execution_count": null,
      "outputs": [
        {
          "output_type": "execute_result",
          "data": {
            "text/plain": [
              "worst concave points      -0.793566\n",
              "worst perimeter           -0.782914\n",
              "mean concave points       -0.776614\n",
              "worst radius              -0.776454\n",
              "mean perimeter            -0.742636\n",
              "worst area                -0.733825\n",
              "mean radius               -0.730029\n",
              "mean area                 -0.708984\n",
              "mean concavity            -0.696360\n",
              "worst concavity           -0.659610\n",
              "mean compactness          -0.596534\n",
              "worst compactness         -0.590998\n",
              "radius error              -0.567134\n",
              "perimeter error           -0.556141\n",
              "area error                -0.548236\n",
              "worst texture             -0.456903\n",
              "worst smoothness          -0.421465\n",
              "worst symmetry            -0.416294\n",
              "mean texture              -0.415185\n",
              "concave points error      -0.408042\n",
              "mean smoothness           -0.358560\n",
              "mean symmetry             -0.330499\n",
              "worst fractal dimension   -0.323872\n",
              "compactness error         -0.292999\n",
              "concavity error           -0.253730\n",
              "fractal dimension error   -0.077972\n",
              "symmetry error             0.006522\n",
              "texture error              0.008303\n",
              "mean fractal dimension     0.012838\n",
              "smoothness error           0.067016\n",
              "benign_0__mal_1            1.000000\n",
              "Name: benign_0__mal_1, dtype: float64"
            ]
          },
          "metadata": {},
          "execution_count": 8
        }
      ]
    },
    {
      "cell_type": "code",
      "metadata": {
        "id": "VUzizOv2LMvA",
        "colab": {
          "base_uri": "https://localhost:8080/",
          "height": 391
        },
        "outputId": "4bc24418-e05f-4725-da4b-5e1c9c2ccbd1"
      },
      "source": [
        "#Plotting the correlation\n",
        "df.corr()['benign_0__mal_1'].sort_values().plot(kind='bar')"
      ],
      "execution_count": null,
      "outputs": [
        {
          "output_type": "execute_result",
          "data": {
            "text/plain": [
              "<matplotlib.axes._subplots.AxesSubplot at 0x7efcbaec1b10>"
            ]
          },
          "metadata": {},
          "execution_count": 9
        },
        {
          "output_type": "display_data",
          "data": {
            "image/png": "[encoded data removed]",
            "text/plain": [
              "<Figure size 432x288 with 1 Axes>"
            ]
          },
          "metadata": {
            "needs_background": "light"
          }
        }
      ]
    },
    {
      "cell_type": "code",
      "metadata": {
        "id": "p9waBBGzMJxk"
      },
      "source": [
        "#Train Test Split\n",
        "from sklearn.model_selection import train_test_split"
      ],
      "execution_count": null,
      "outputs": []
    },
    {
      "cell_type": "code",
      "metadata": {
        "id": "tw96V-FzMXKX"
      },
      "source": [
        "X= df.drop('benign_0__mal_1', axis=1) #Input\n",
        "y=df['benign_0__mal_1'] #Output"
      ],
      "execution_count": null,
      "outputs": []
    },
    {
      "cell_type": "code",
      "metadata": {
        "id": "k6FGPTIfMswh"
      },
      "source": [
        "X_train, X_test, y_train, y_test= train_test_split(X,y,test_size=0.25, random_state=101)"
      ],
      "execution_count": null,
      "outputs": []
    },
    {
      "cell_type": "code",
      "metadata": {
        "id": "1PMIVP3cNHI-"
      },
      "source": [
        "#Scaling the Data- Removing the dominating effect of higher valued columns with MinMax Scaler"
      ],
      "execution_count": null,
      "outputs": []
    },
    {
      "cell_type": "code",
      "metadata": {
        "id": "bZCD_w6gNal6"
      },
      "source": [
        "from sklearn.preprocessing import MinMaxScaler"
      ],
      "execution_count": null,
      "outputs": []
    },
    {
      "cell_type": "code",
      "metadata": {
        "id": "IkxSO0zmNjUw"
      },
      "source": [
        "scaler= MinMaxScaler()"
      ],
      "execution_count": null,
      "outputs": []
    },
    {
      "cell_type": "code",
      "metadata": {
        "colab": {
          "base_uri": "https://localhost:8080/"
        },
        "id": "mAOhk0_-NnX1",
        "outputId": "297c1e43-475b-48cf-ce51-2a700526495b"
      },
      "source": [
        "scaler.fit(X_train)"
      ],
      "execution_count": null,
      "outputs": [
        {
          "output_type": "execute_result",
          "data": {
            "text/plain": [
              "MinMaxScaler(copy=True, feature_range=(0, 1))"
            ]
          },
          "metadata": {},
          "execution_count": 16
        }
      ]
    },
    {
      "cell_type": "code",
      "metadata": {
        "id": "cZ0RrQ7sNv3l"
      },
      "source": [
        "X_train= scaler.transform(X_train)\n",
        "X_test= scaler.transform(X_test)"
      ],
      "execution_count": null,
      "outputs": []
    },
    {
      "cell_type": "code",
      "metadata": {
        "colab": {
          "base_uri": "https://localhost:8080/"
        },
        "id": "b7NoHqP-N7-h",
        "outputId": "706f69c9-ea50-4fc2-d586-dc870d3f5cee"
      },
      "source": [
        "#Scaled Training Input\n",
        "X_train"
      ],
      "execution_count": null,
      "outputs": [
        {
          "output_type": "execute_result",
          "data": {
            "text/plain": [
              "array([[0.30280346, 0.28779168, 0.28292922, ..., 0.35910653, 0.13207175,\n",
              "        0.09320478],\n",
              "       [0.27589412, 0.25160636, 0.25735448, ..., 0.33852234, 0.33609304,\n",
              "        0.11976912],\n",
              "       [0.38255296, 0.26885357, 0.36398575, ..., 0.28549828, 0.40114331,\n",
              "        0.11681753],\n",
              "       ...,\n",
              "       [0.44468907, 0.3361515 , 0.42142408, ..., 0.52233677, 0.21387739,\n",
              "        0.05791683],\n",
              "       [0.57678947, 0.39634765, 0.55279156, ..., 0.70378007, 0.41671595,\n",
              "        0.2863702 ],\n",
              "       [0.32922354, 0.30334799, 0.31402418, ..., 0.44123711, 0.25310467,\n",
              "        0.23133937]])"
            ]
          },
          "metadata": {},
          "execution_count": 18
        }
      ]
    },
    {
      "cell_type": "code",
      "metadata": {
        "colab": {
          "base_uri": "https://localhost:8080/"
        },
        "id": "448_LI-rOJRt",
        "outputId": "5bf70ae7-f617-4965-bc15-17ea17bd588e"
      },
      "source": [
        "#Scaled Testing Input\n",
        "X_test"
      ],
      "execution_count": null,
      "outputs": [
        {
          "output_type": "execute_result",
          "data": {
            "text/plain": [
              "array([[0.26317335, 0.29861346, 0.2461044 , ..., 0.29010309, 0.27951902,\n",
              "        0.11025843],\n",
              "       [0.34536915, 0.21203923, 0.32136119, ..., 0.25611684, 0.22866154,\n",
              "        0.11347239],\n",
              "       [0.29008269, 0.22387555, 0.27070086, ..., 0.28298969, 0.28760103,\n",
              "        0.09477896],\n",
              "       ...,\n",
              "       [0.51954597, 0.46060196, 0.52553979, ..., 0.68591065, 0.14508181,\n",
              "        0.44182081],\n",
              "       [0.22696805, 0.28643896, 0.22772692, ..., 0.48659794, 0.21584861,\n",
              "        0.24701561],\n",
              "       [0.41680121, 0.38451133, 0.41303892, ..., 0.73333333, 0.28346146,\n",
              "        0.32638069]])"
            ]
          },
          "metadata": {},
          "execution_count": 19
        }
      ]
    },
    {
      "cell_type": "code",
      "metadata": {
        "id": "kL-GPyHjOVBb"
      },
      "source": [
        "#Creating a Deep Learning Model\n",
        "import tensorflow as tf\n",
        "from tensorflow.keras.models import Sequential\n",
        "from tensorflow.keras.layers import Dense, Activation"
      ],
      "execution_count": null,
      "outputs": []
    },
    {
      "cell_type": "code",
      "metadata": {
        "colab": {
          "base_uri": "https://localhost:8080/"
        },
        "id": "g93ri_sIOpxg",
        "outputId": "0110fc66-6609-4977-8654-6ad7c98f077a"
      },
      "source": [
        "X_train.shape"
      ],
      "execution_count": null,
      "outputs": [
        {
          "output_type": "execute_result",
          "data": {
            "text/plain": [
              "(426, 30)"
            ]
          },
          "metadata": {},
          "execution_count": 21
        }
      ]
    },
    {
      "cell_type": "code",
      "metadata": {
        "id": "gZX_3MRHrS9Y"
      },
      "source": [
        "#Dropout\n",
        "from tensorflow.keras.layers import Dropout"
      ],
      "execution_count": null,
      "outputs": []
    },
    {
      "cell_type": "code",
      "metadata": {
        "id": "jNAcM0MbbTfO"
      },
      "source": [
        "#Creating Layers\n",
        "model= Sequential()\n",
        "\n",
        "model.add(Dense(units=30, activation='relu')) #Hidden Layer-1 \n",
        "model.add(Dropout(0.5))\n",
        "model.add(Dense(units=15, activation='relu')) #Hidden Layer-2\n",
        "model.add(Dropout(0.5))\n",
        "model.add(Dense(units=1, activation='sigmoid')) #Output Layer\n",
        "\n",
        "model.compile(loss='binary_crossentropy', optimizer='adam', metrics=['accuracy'])\n",
        "#We can try other optimizer as well: Stochastic Gradient Descent(SGD), RMSProp, Momentum, adadelta"
      ],
      "execution_count": null,
      "outputs": []
    },
    {
      "cell_type": "code",
      "metadata": {
        "id": "dF7rzGo_u2po"
      },
      "source": [
        "from tensorflow.keras.callbacks import EarlyStopping"
      ],
      "execution_count": null,
      "outputs": []
    },
    {
      "cell_type": "code",
      "metadata": {
        "id": "oZXLQvFibnup"
      },
      "source": [
        "#Early-Stopping: It is a method to find out the best no. of epoch for the model. \n",
        "early_stop= EarlyStopping(monitor='val_loss', patience=25, mode='auto', verbose=1)"
      ],
      "execution_count": null,
      "outputs": []
    },
    {
      "cell_type": "code",
      "metadata": {
        "colab": {
          "base_uri": "https://localhost:8080/"
        },
        "id": "ZTA76su5bEiC",
        "outputId": "1310504a-e823-42b0-9a08-8755c728dcad"
      },
      "source": [
        "#Training the model\n",
        "model.fit(x=X_train,\n",
        "          y=y_train, \n",
        "          epochs=600,\n",
        "          validation_data=(X_test, y_test),\n",
        "          verbose=True,\n",
        "          callbacks=[early_stop]\n",
        "          ) "
      ],
      "execution_count": null,
      "outputs": [
        {
          "output_type": "stream",
          "text": [
            "Epoch 1/600\n",
            "14/14 [==============================] - 1s 16ms/step - loss: 0.7300 - accuracy: 0.4272 - val_loss: 0.6776 - val_accuracy: 0.6713\n",
            "Epoch 2/600\n",
            "14/14 [==============================] - 0s 3ms/step - loss: 0.7025 - accuracy: 0.5258 - val_loss: 0.6621 - val_accuracy: 0.7552\n",
            "Epoch 3/600\n",
            "14/14 [==============================] - 0s 5ms/step - loss: 0.6695 - accuracy: 0.6268 - val_loss: 0.6490 - val_accuracy: 0.8042\n",
            "Epoch 4/600\n",
            "14/14 [==============================] - 0s 5ms/step - loss: 0.6454 - accuracy: 0.6854 - val_loss: 0.6341 - val_accuracy: 0.8531\n",
            "Epoch 5/600\n",
            "14/14 [==============================] - 0s 3ms/step - loss: 0.6362 - accuracy: 0.6995 - val_loss: 0.6132 - val_accuracy: 0.9021\n",
            "Epoch 6/600\n",
            "14/14 [==============================] - 0s 4ms/step - loss: 0.6260 - accuracy: 0.7089 - val_loss: 0.5923 - val_accuracy: 0.9441\n",
            "Epoch 7/600\n",
            "14/14 [==============================] - 0s 3ms/step - loss: 0.6051 - accuracy: 0.7535 - val_loss: 0.5658 - val_accuracy: 0.9301\n",
            "Epoch 8/600\n",
            "14/14 [==============================] - 0s 4ms/step - loss: 0.5919 - accuracy: 0.7512 - val_loss: 0.5379 - val_accuracy: 0.9441\n",
            "Epoch 9/600\n",
            "14/14 [==============================] - 0s 4ms/step - loss: 0.5542 - accuracy: 0.8192 - val_loss: 0.5137 - val_accuracy: 0.9091\n",
            "Epoch 10/600\n",
            "14/14 [==============================] - 0s 3ms/step - loss: 0.5329 - accuracy: 0.8075 - val_loss: 0.4755 - val_accuracy: 0.9441\n",
            "Epoch 11/600\n",
            "14/14 [==============================] - 0s 3ms/step - loss: 0.5182 - accuracy: 0.8075 - val_loss: 0.4473 - val_accuracy: 0.9441\n",
            "Epoch 12/600\n",
            "14/14 [==============================] - 0s 5ms/step - loss: 0.4854 - accuracy: 0.8263 - val_loss: 0.4174 - val_accuracy: 0.9371\n",
            "Epoch 13/600\n",
            "14/14 [==============================] - 0s 4ms/step - loss: 0.4571 - accuracy: 0.8568 - val_loss: 0.3857 - val_accuracy: 0.9441\n",
            "Epoch 14/600\n",
            "14/14 [==============================] - 0s 4ms/step - loss: 0.4268 - accuracy: 0.8427 - val_loss: 0.3533 - val_accuracy: 0.9231\n",
            "Epoch 15/600\n",
            "14/14 [==============================] - 0s 3ms/step - loss: 0.4132 - accuracy: 0.8709 - val_loss: 0.3250 - val_accuracy: 0.9441\n",
            "Epoch 16/600\n",
            "14/14 [==============================] - 0s 4ms/step - loss: 0.3873 - accuracy: 0.8779 - val_loss: 0.3000 - val_accuracy: 0.9580\n",
            "Epoch 17/600\n",
            "14/14 [==============================] - 0s 3ms/step - loss: 0.3617 - accuracy: 0.8826 - val_loss: 0.2769 - val_accuracy: 0.9580\n",
            "Epoch 18/600\n",
            "14/14 [==============================] - 0s 4ms/step - loss: 0.3668 - accuracy: 0.8709 - val_loss: 0.2614 - val_accuracy: 0.9580\n",
            "Epoch 19/600\n",
            "14/14 [==============================] - 0s 5ms/step - loss: 0.3297 - accuracy: 0.9014 - val_loss: 0.2496 - val_accuracy: 0.9510\n",
            "Epoch 20/600\n",
            "14/14 [==============================] - 0s 3ms/step - loss: 0.3362 - accuracy: 0.8897 - val_loss: 0.2391 - val_accuracy: 0.9580\n",
            "Epoch 21/600\n",
            "14/14 [==============================] - 0s 3ms/step - loss: 0.3268 - accuracy: 0.8803 - val_loss: 0.2272 - val_accuracy: 0.9510\n",
            "Epoch 22/600\n",
            "14/14 [==============================] - 0s 4ms/step - loss: 0.2827 - accuracy: 0.9225 - val_loss: 0.2082 - val_accuracy: 0.9441\n",
            "Epoch 23/600\n",
            "14/14 [==============================] - 0s 4ms/step - loss: 0.3400 - accuracy: 0.8545 - val_loss: 0.1976 - val_accuracy: 0.9650\n",
            "Epoch 24/600\n",
            "14/14 [==============================] - 0s 4ms/step - loss: 0.2942 - accuracy: 0.9131 - val_loss: 0.1973 - val_accuracy: 0.9580\n",
            "Epoch 25/600\n",
            "14/14 [==============================] - 0s 4ms/step - loss: 0.2755 - accuracy: 0.9085 - val_loss: 0.1877 - val_accuracy: 0.9580\n",
            "Epoch 26/600\n",
            "14/14 [==============================] - 0s 5ms/step - loss: 0.2675 - accuracy: 0.9178 - val_loss: 0.1772 - val_accuracy: 0.9510\n",
            "Epoch 27/600\n",
            "14/14 [==============================] - 0s 3ms/step - loss: 0.2214 - accuracy: 0.9272 - val_loss: 0.1605 - val_accuracy: 0.9580\n",
            "Epoch 28/600\n",
            "14/14 [==============================] - 0s 3ms/step - loss: 0.2476 - accuracy: 0.9155 - val_loss: 0.1511 - val_accuracy: 0.9720\n",
            "Epoch 29/600\n",
            "14/14 [==============================] - 0s 3ms/step - loss: 0.2337 - accuracy: 0.9155 - val_loss: 0.1482 - val_accuracy: 0.9510\n",
            "Epoch 30/600\n",
            "14/14 [==============================] - 0s 5ms/step - loss: 0.2446 - accuracy: 0.9131 - val_loss: 0.1471 - val_accuracy: 0.9510\n",
            "Epoch 31/600\n",
            "14/14 [==============================] - 0s 4ms/step - loss: 0.2212 - accuracy: 0.9225 - val_loss: 0.1397 - val_accuracy: 0.9650\n",
            "Epoch 32/600\n",
            "14/14 [==============================] - 0s 3ms/step - loss: 0.2410 - accuracy: 0.9038 - val_loss: 0.1397 - val_accuracy: 0.9650\n",
            "Epoch 33/600\n",
            "14/14 [==============================] - 0s 4ms/step - loss: 0.1981 - accuracy: 0.9272 - val_loss: 0.1374 - val_accuracy: 0.9650\n",
            "Epoch 34/600\n",
            "14/14 [==============================] - 0s 3ms/step - loss: 0.1908 - accuracy: 0.9484 - val_loss: 0.1367 - val_accuracy: 0.9580\n",
            "Epoch 35/600\n",
            "14/14 [==============================] - 0s 5ms/step - loss: 0.2208 - accuracy: 0.9178 - val_loss: 0.1303 - val_accuracy: 0.9441\n",
            "Epoch 36/600\n",
            "14/14 [==============================] - 0s 4ms/step - loss: 0.2074 - accuracy: 0.9272 - val_loss: 0.1278 - val_accuracy: 0.9441\n",
            "Epoch 37/600\n",
            "14/14 [==============================] - 0s 4ms/step - loss: 0.2077 - accuracy: 0.9178 - val_loss: 0.1261 - val_accuracy: 0.9441\n",
            "Epoch 38/600\n",
            "14/14 [==============================] - 0s 5ms/step - loss: 0.2010 - accuracy: 0.9413 - val_loss: 0.1257 - val_accuracy: 0.9580\n",
            "Epoch 39/600\n",
            "14/14 [==============================] - 0s 4ms/step - loss: 0.1755 - accuracy: 0.9484 - val_loss: 0.1223 - val_accuracy: 0.9580\n",
            "Epoch 40/600\n",
            "14/14 [==============================] - 0s 4ms/step - loss: 0.1829 - accuracy: 0.9460 - val_loss: 0.1178 - val_accuracy: 0.9441\n",
            "Epoch 41/600\n",
            "14/14 [==============================] - 0s 5ms/step - loss: 0.1771 - accuracy: 0.9460 - val_loss: 0.1161 - val_accuracy: 0.9510\n",
            "Epoch 42/600\n",
            "14/14 [==============================] - 0s 5ms/step - loss: 0.1700 - accuracy: 0.9390 - val_loss: 0.1136 - val_accuracy: 0.9510\n",
            "Epoch 43/600\n",
            "14/14 [==============================] - 0s 4ms/step - loss: 0.1513 - accuracy: 0.9413 - val_loss: 0.1212 - val_accuracy: 0.9580\n",
            "Epoch 44/600\n",
            "14/14 [==============================] - 0s 3ms/step - loss: 0.1681 - accuracy: 0.9531 - val_loss: 0.1150 - val_accuracy: 0.9650\n",
            "Epoch 45/600\n",
            "14/14 [==============================] - 0s 4ms/step - loss: 0.1754 - accuracy: 0.9319 - val_loss: 0.1102 - val_accuracy: 0.9580\n",
            "Epoch 46/600\n",
            "14/14 [==============================] - 0s 3ms/step - loss: 0.1576 - accuracy: 0.9413 - val_loss: 0.1124 - val_accuracy: 0.9580\n",
            "Epoch 47/600\n",
            "14/14 [==============================] - 0s 5ms/step - loss: 0.1571 - accuracy: 0.9531 - val_loss: 0.1079 - val_accuracy: 0.9510\n",
            "Epoch 48/600\n",
            "14/14 [==============================] - 0s 5ms/step - loss: 0.1566 - accuracy: 0.9531 - val_loss: 0.1085 - val_accuracy: 0.9580\n",
            "Epoch 49/600\n",
            "14/14 [==============================] - 0s 3ms/step - loss: 0.1419 - accuracy: 0.9554 - val_loss: 0.1047 - val_accuracy: 0.9580\n",
            "Epoch 50/600\n",
            "14/14 [==============================] - 0s 4ms/step - loss: 0.1762 - accuracy: 0.9413 - val_loss: 0.1032 - val_accuracy: 0.9650\n",
            "Epoch 51/600\n",
            "14/14 [==============================] - 0s 4ms/step - loss: 0.1570 - accuracy: 0.9484 - val_loss: 0.1094 - val_accuracy: 0.9510\n",
            "Epoch 52/600\n",
            "14/14 [==============================] - 0s 4ms/step - loss: 0.1511 - accuracy: 0.9366 - val_loss: 0.1114 - val_accuracy: 0.9650\n",
            "Epoch 53/600\n",
            "14/14 [==============================] - 0s 4ms/step - loss: 0.1597 - accuracy: 0.9460 - val_loss: 0.1070 - val_accuracy: 0.9510\n",
            "Epoch 54/600\n",
            "14/14 [==============================] - 0s 3ms/step - loss: 0.1753 - accuracy: 0.9366 - val_loss: 0.1077 - val_accuracy: 0.9580\n",
            "Epoch 55/600\n",
            "14/14 [==============================] - 0s 4ms/step - loss: 0.1524 - accuracy: 0.9460 - val_loss: 0.1007 - val_accuracy: 0.9650\n",
            "Epoch 56/600\n",
            "14/14 [==============================] - 0s 3ms/step - loss: 0.1343 - accuracy: 0.9531 - val_loss: 0.1004 - val_accuracy: 0.9650\n",
            "Epoch 57/600\n",
            "14/14 [==============================] - 0s 3ms/step - loss: 0.1403 - accuracy: 0.9624 - val_loss: 0.1071 - val_accuracy: 0.9650\n",
            "Epoch 58/600\n",
            "14/14 [==============================] - 0s 5ms/step - loss: 0.1333 - accuracy: 0.9460 - val_loss: 0.1018 - val_accuracy: 0.9580\n",
            "Epoch 59/600\n",
            "14/14 [==============================] - 0s 4ms/step - loss: 0.1085 - accuracy: 0.9601 - val_loss: 0.0981 - val_accuracy: 0.9650\n",
            "Epoch 60/600\n",
            "14/14 [==============================] - 0s 3ms/step - loss: 0.1186 - accuracy: 0.9718 - val_loss: 0.0989 - val_accuracy: 0.9650\n",
            "Epoch 61/600\n",
            "14/14 [==============================] - 0s 3ms/step - loss: 0.1228 - accuracy: 0.9484 - val_loss: 0.0947 - val_accuracy: 0.9650\n",
            "Epoch 62/600\n",
            "14/14 [==============================] - 0s 4ms/step - loss: 0.1411 - accuracy: 0.9484 - val_loss: 0.1056 - val_accuracy: 0.9650\n",
            "Epoch 63/600\n",
            "14/14 [==============================] - 0s 3ms/step - loss: 0.1523 - accuracy: 0.9484 - val_loss: 0.1060 - val_accuracy: 0.9650\n",
            "Epoch 64/600\n",
            "14/14 [==============================] - 0s 3ms/step - loss: 0.1193 - accuracy: 0.9507 - val_loss: 0.0947 - val_accuracy: 0.9720\n",
            "Epoch 65/600\n",
            "14/14 [==============================] - 0s 4ms/step - loss: 0.1247 - accuracy: 0.9577 - val_loss: 0.1012 - val_accuracy: 0.9650\n",
            "Epoch 66/600\n",
            "14/14 [==============================] - 0s 3ms/step - loss: 0.1120 - accuracy: 0.9671 - val_loss: 0.0960 - val_accuracy: 0.9650\n",
            "Epoch 67/600\n",
            "14/14 [==============================] - 0s 3ms/step - loss: 0.1138 - accuracy: 0.9671 - val_loss: 0.0947 - val_accuracy: 0.9720\n",
            "Epoch 68/600\n",
            "14/14 [==============================] - 0s 4ms/step - loss: 0.1213 - accuracy: 0.9648 - val_loss: 0.0976 - val_accuracy: 0.9650\n",
            "Epoch 69/600\n",
            "14/14 [==============================] - 0s 3ms/step - loss: 0.1278 - accuracy: 0.9671 - val_loss: 0.1118 - val_accuracy: 0.9650\n",
            "Epoch 70/600\n",
            "14/14 [==============================] - 0s 4ms/step - loss: 0.1261 - accuracy: 0.9484 - val_loss: 0.0913 - val_accuracy: 0.9720\n",
            "Epoch 71/600\n",
            "14/14 [==============================] - 0s 3ms/step - loss: 0.1191 - accuracy: 0.9624 - val_loss: 0.1053 - val_accuracy: 0.9650\n",
            "Epoch 72/600\n",
            "14/14 [==============================] - 0s 5ms/step - loss: 0.1072 - accuracy: 0.9601 - val_loss: 0.0959 - val_accuracy: 0.9720\n",
            "Epoch 73/600\n",
            "14/14 [==============================] - 0s 4ms/step - loss: 0.1085 - accuracy: 0.9718 - val_loss: 0.0960 - val_accuracy: 0.9720\n",
            "Epoch 74/600\n",
            "14/14 [==============================] - 0s 4ms/step - loss: 0.1028 - accuracy: 0.9624 - val_loss: 0.0997 - val_accuracy: 0.9650\n",
            "Epoch 75/600\n",
            "14/14 [==============================] - 0s 3ms/step - loss: 0.1123 - accuracy: 0.9671 - val_loss: 0.0907 - val_accuracy: 0.9790\n",
            "Epoch 76/600\n",
            "14/14 [==============================] - 0s 4ms/step - loss: 0.1210 - accuracy: 0.9648 - val_loss: 0.0894 - val_accuracy: 0.9720\n",
            "Epoch 77/600\n",
            "14/14 [==============================] - 0s 3ms/step - loss: 0.1077 - accuracy: 0.9671 - val_loss: 0.1036 - val_accuracy: 0.9650\n",
            "Epoch 78/600\n",
            "14/14 [==============================] - 0s 4ms/step - loss: 0.0966 - accuracy: 0.9742 - val_loss: 0.0904 - val_accuracy: 0.9720\n",
            "Epoch 79/600\n",
            "14/14 [==============================] - 0s 5ms/step - loss: 0.1125 - accuracy: 0.9671 - val_loss: 0.0882 - val_accuracy: 0.9790\n",
            "Epoch 80/600\n",
            "14/14 [==============================] - 0s 3ms/step - loss: 0.1086 - accuracy: 0.9648 - val_loss: 0.0919 - val_accuracy: 0.9650\n",
            "Epoch 81/600\n",
            "14/14 [==============================] - 0s 3ms/step - loss: 0.0993 - accuracy: 0.9648 - val_loss: 0.0925 - val_accuracy: 0.9720\n",
            "Epoch 82/600\n",
            "14/14 [==============================] - 0s 5ms/step - loss: 0.1001 - accuracy: 0.9695 - val_loss: 0.0957 - val_accuracy: 0.9650\n",
            "Epoch 83/600\n",
            "14/14 [==============================] - 0s 3ms/step - loss: 0.1009 - accuracy: 0.9671 - val_loss: 0.0950 - val_accuracy: 0.9650\n",
            "Epoch 84/600\n",
            "14/14 [==============================] - 0s 5ms/step - loss: 0.1008 - accuracy: 0.9695 - val_loss: 0.0929 - val_accuracy: 0.9720\n",
            "Epoch 85/600\n",
            "14/14 [==============================] - 0s 3ms/step - loss: 0.1229 - accuracy: 0.9577 - val_loss: 0.0887 - val_accuracy: 0.9720\n",
            "Epoch 86/600\n",
            "14/14 [==============================] - 0s 3ms/step - loss: 0.1073 - accuracy: 0.9577 - val_loss: 0.0887 - val_accuracy: 0.9720\n",
            "Epoch 87/600\n",
            "14/14 [==============================] - 0s 5ms/step - loss: 0.1018 - accuracy: 0.9601 - val_loss: 0.0900 - val_accuracy: 0.9720\n",
            "Epoch 88/600\n",
            "14/14 [==============================] - 0s 5ms/step - loss: 0.0947 - accuracy: 0.9742 - val_loss: 0.1003 - val_accuracy: 0.9650\n",
            "Epoch 89/600\n",
            "14/14 [==============================] - 0s 3ms/step - loss: 0.0991 - accuracy: 0.9601 - val_loss: 0.0869 - val_accuracy: 0.9720\n",
            "Epoch 90/600\n",
            "14/14 [==============================] - 0s 3ms/step - loss: 0.1159 - accuracy: 0.9624 - val_loss: 0.0914 - val_accuracy: 0.9720\n",
            "Epoch 91/600\n",
            "14/14 [==============================] - 0s 3ms/step - loss: 0.0969 - accuracy: 0.9671 - val_loss: 0.0934 - val_accuracy: 0.9720\n",
            "Epoch 92/600\n",
            "14/14 [==============================] - 0s 5ms/step - loss: 0.0901 - accuracy: 0.9718 - val_loss: 0.0852 - val_accuracy: 0.9790\n",
            "Epoch 93/600\n",
            "14/14 [==============================] - 0s 4ms/step - loss: 0.1168 - accuracy: 0.9577 - val_loss: 0.0892 - val_accuracy: 0.9790\n",
            "Epoch 94/600\n",
            "14/14 [==============================] - 0s 3ms/step - loss: 0.0988 - accuracy: 0.9648 - val_loss: 0.0930 - val_accuracy: 0.9720\n",
            "Epoch 95/600\n",
            "14/14 [==============================] - 0s 4ms/step - loss: 0.0940 - accuracy: 0.9671 - val_loss: 0.0965 - val_accuracy: 0.9720\n",
            "Epoch 96/600\n",
            "14/14 [==============================] - 0s 5ms/step - loss: 0.1015 - accuracy: 0.9554 - val_loss: 0.0942 - val_accuracy: 0.9720\n",
            "Epoch 97/600\n",
            "14/14 [==============================] - 0s 5ms/step - loss: 0.1036 - accuracy: 0.9742 - val_loss: 0.0910 - val_accuracy: 0.9720\n",
            "Epoch 98/600\n",
            "14/14 [==============================] - 0s 5ms/step - loss: 0.0938 - accuracy: 0.9554 - val_loss: 0.0942 - val_accuracy: 0.9720\n",
            "Epoch 99/600\n",
            "14/14 [==============================] - 0s 3ms/step - loss: 0.0830 - accuracy: 0.9812 - val_loss: 0.0970 - val_accuracy: 0.9720\n",
            "Epoch 100/600\n",
            "14/14 [==============================] - 0s 3ms/step - loss: 0.0885 - accuracy: 0.9695 - val_loss: 0.0889 - val_accuracy: 0.9720\n",
            "Epoch 101/600\n",
            "14/14 [==============================] - 0s 4ms/step - loss: 0.0916 - accuracy: 0.9695 - val_loss: 0.1006 - val_accuracy: 0.9650\n",
            "Epoch 102/600\n",
            "14/14 [==============================] - 0s 5ms/step - loss: 0.0979 - accuracy: 0.9789 - val_loss: 0.0971 - val_accuracy: 0.9720\n",
            "Epoch 103/600\n",
            "14/14 [==============================] - 0s 4ms/step - loss: 0.0897 - accuracy: 0.9695 - val_loss: 0.0947 - val_accuracy: 0.9720\n",
            "Epoch 104/600\n",
            "14/14 [==============================] - 0s 5ms/step - loss: 0.1072 - accuracy: 0.9671 - val_loss: 0.0872 - val_accuracy: 0.9790\n",
            "Epoch 105/600\n",
            "14/14 [==============================] - 0s 3ms/step - loss: 0.0869 - accuracy: 0.9718 - val_loss: 0.0892 - val_accuracy: 0.9790\n",
            "Epoch 106/600\n",
            "14/14 [==============================] - 0s 3ms/step - loss: 0.1031 - accuracy: 0.9671 - val_loss: 0.0884 - val_accuracy: 0.9790\n",
            "Epoch 107/600\n",
            "14/14 [==============================] - 0s 5ms/step - loss: 0.0886 - accuracy: 0.9648 - val_loss: 0.0978 - val_accuracy: 0.9720\n",
            "Epoch 108/600\n",
            "14/14 [==============================] - 0s 5ms/step - loss: 0.0862 - accuracy: 0.9671 - val_loss: 0.0917 - val_accuracy: 0.9790\n",
            "Epoch 109/600\n",
            "14/14 [==============================] - 0s 3ms/step - loss: 0.0966 - accuracy: 0.9671 - val_loss: 0.0877 - val_accuracy: 0.9790\n",
            "Epoch 110/600\n",
            "14/14 [==============================] - 0s 4ms/step - loss: 0.0769 - accuracy: 0.9695 - val_loss: 0.0886 - val_accuracy: 0.9720\n",
            "Epoch 111/600\n",
            "14/14 [==============================] - 0s 4ms/step - loss: 0.1042 - accuracy: 0.9671 - val_loss: 0.0942 - val_accuracy: 0.9720\n",
            "Epoch 112/600\n",
            "14/14 [==============================] - 0s 5ms/step - loss: 0.0853 - accuracy: 0.9742 - val_loss: 0.0971 - val_accuracy: 0.9650\n",
            "Epoch 113/600\n",
            "14/14 [==============================] - 0s 4ms/step - loss: 0.0812 - accuracy: 0.9812 - val_loss: 0.0952 - val_accuracy: 0.9720\n",
            "Epoch 114/600\n",
            "14/14 [==============================] - 0s 3ms/step - loss: 0.0938 - accuracy: 0.9718 - val_loss: 0.0884 - val_accuracy: 0.9790\n",
            "Epoch 115/600\n",
            "14/14 [==============================] - 0s 4ms/step - loss: 0.0797 - accuracy: 0.9765 - val_loss: 0.0848 - val_accuracy: 0.9790\n",
            "Epoch 116/600\n",
            "14/14 [==============================] - 0s 3ms/step - loss: 0.0917 - accuracy: 0.9765 - val_loss: 0.0935 - val_accuracy: 0.9720\n",
            "Epoch 117/600\n",
            "14/14 [==============================] - 0s 5ms/step - loss: 0.0857 - accuracy: 0.9789 - val_loss: 0.0895 - val_accuracy: 0.9790\n",
            "Epoch 118/600\n",
            "14/14 [==============================] - 0s 4ms/step - loss: 0.0887 - accuracy: 0.9765 - val_loss: 0.0989 - val_accuracy: 0.9720\n",
            "Epoch 119/600\n",
            "14/14 [==============================] - 0s 4ms/step - loss: 0.0978 - accuracy: 0.9648 - val_loss: 0.0873 - val_accuracy: 0.9790\n",
            "Epoch 120/600\n",
            "14/14 [==============================] - 0s 5ms/step - loss: 0.0891 - accuracy: 0.9648 - val_loss: 0.1001 - val_accuracy: 0.9650\n",
            "Epoch 121/600\n",
            "14/14 [==============================] - 0s 3ms/step - loss: 0.0777 - accuracy: 0.9789 - val_loss: 0.0936 - val_accuracy: 0.9720\n",
            "Epoch 122/600\n",
            "14/14 [==============================] - 0s 5ms/step - loss: 0.0823 - accuracy: 0.9742 - val_loss: 0.0863 - val_accuracy: 0.9790\n",
            "Epoch 123/600\n",
            "14/14 [==============================] - 0s 3ms/step - loss: 0.0879 - accuracy: 0.9601 - val_loss: 0.0880 - val_accuracy: 0.9790\n",
            "Epoch 124/600\n",
            "14/14 [==============================] - 0s 4ms/step - loss: 0.0806 - accuracy: 0.9718 - val_loss: 0.0962 - val_accuracy: 0.9720\n",
            "Epoch 125/600\n",
            "14/14 [==============================] - 0s 5ms/step - loss: 0.0746 - accuracy: 0.9742 - val_loss: 0.0872 - val_accuracy: 0.9720\n",
            "Epoch 126/600\n",
            "14/14 [==============================] - 0s 4ms/step - loss: 0.0890 - accuracy: 0.9695 - val_loss: 0.0849 - val_accuracy: 0.9790\n",
            "Epoch 127/600\n",
            "14/14 [==============================] - 0s 3ms/step - loss: 0.0930 - accuracy: 0.9742 - val_loss: 0.0851 - val_accuracy: 0.9790\n",
            "Epoch 128/600\n",
            "14/14 [==============================] - 0s 3ms/step - loss: 0.0732 - accuracy: 0.9812 - val_loss: 0.0935 - val_accuracy: 0.9720\n",
            "Epoch 129/600\n",
            "14/14 [==============================] - 0s 5ms/step - loss: 0.0895 - accuracy: 0.9718 - val_loss: 0.0924 - val_accuracy: 0.9790\n",
            "Epoch 130/600\n",
            "14/14 [==============================] - 0s 4ms/step - loss: 0.0857 - accuracy: 0.9671 - val_loss: 0.0860 - val_accuracy: 0.9860\n",
            "Epoch 131/600\n",
            "14/14 [==============================] - 0s 5ms/step - loss: 0.0812 - accuracy: 0.9765 - val_loss: 0.0988 - val_accuracy: 0.9720\n",
            "Epoch 132/600\n",
            "14/14 [==============================] - 0s 3ms/step - loss: 0.0785 - accuracy: 0.9765 - val_loss: 0.0977 - val_accuracy: 0.9790\n",
            "Epoch 133/600\n",
            "14/14 [==============================] - 0s 4ms/step - loss: 0.0810 - accuracy: 0.9789 - val_loss: 0.0955 - val_accuracy: 0.9790\n",
            "Epoch 134/600\n",
            "14/14 [==============================] - 0s 4ms/step - loss: 0.0851 - accuracy: 0.9695 - val_loss: 0.0853 - val_accuracy: 0.9860\n",
            "Epoch 135/600\n",
            "14/14 [==============================] - 0s 5ms/step - loss: 0.0919 - accuracy: 0.9695 - val_loss: 0.0885 - val_accuracy: 0.9790\n",
            "Epoch 136/600\n",
            "14/14 [==============================] - 0s 4ms/step - loss: 0.0688 - accuracy: 0.9812 - val_loss: 0.0901 - val_accuracy: 0.9790\n",
            "Epoch 137/600\n",
            "14/14 [==============================] - 0s 4ms/step - loss: 0.0884 - accuracy: 0.9671 - val_loss: 0.1019 - val_accuracy: 0.9650\n",
            "Epoch 138/600\n",
            "14/14 [==============================] - 0s 5ms/step - loss: 0.0594 - accuracy: 0.9836 - val_loss: 0.0971 - val_accuracy: 0.9720\n",
            "Epoch 139/600\n",
            "14/14 [==============================] - 0s 4ms/step - loss: 0.0940 - accuracy: 0.9718 - val_loss: 0.0939 - val_accuracy: 0.9720\n",
            "Epoch 140/600\n",
            "14/14 [==============================] - 0s 4ms/step - loss: 0.0838 - accuracy: 0.9671 - val_loss: 0.0908 - val_accuracy: 0.9720\n",
            "Epoch 00140: early stopping\n"
          ],
          "name": "stdout"
        },
        {
          "output_type": "execute_result",
          "data": {
            "text/plain": [
              "<keras.callbacks.History at 0x7efc74dc2150>"
            ]
          },
          "metadata": {},
          "execution_count": 26
        }
      ]
    },
    {
      "cell_type": "code",
      "metadata": {
        "id": "eLvtLhMyhTA3"
      },
      "source": [
        "model_loss= pd.DataFrame(data=model.history.history)"
      ],
      "execution_count": null,
      "outputs": []
    },
    {
      "cell_type": "code",
      "metadata": {
        "colab": {
          "base_uri": "https://localhost:8080/",
          "height": 204
        },
        "id": "sOD8f2r1iagK",
        "outputId": "5f08d20b-4c71-478c-ac83-93bf20fe11ae"
      },
      "source": [
        "model_loss.head()"
      ],
      "execution_count": null,
      "outputs": [
        {
          "output_type": "execute_result",
          "data": {
            "text/html": [
              "<div>\n",
              "<style scoped>\n",
              "    .dataframe tbody tr th:only-of-type {\n",
              "        vertical-align: middle;\n",
              "    }\n",
              "\n",
              "    .dataframe tbody tr th {\n",
              "        vertical-align: top;\n",
              "    }\n",
              "\n",
              "    .dataframe thead th {\n",
              "        text-align: right;\n",
              "    }\n",
              "</style>\n",
              "<table border=\"1\" class=\"dataframe\">\n",
              "  <thead>\n",
              "    <tr style=\"text-align: right;\">\n",
              "      <th></th>\n",
              "      <th>loss</th>\n",
              "      <th>accuracy</th>\n",
              "      <th>val_loss</th>\n",
              "      <th>val_accuracy</th>\n",
              "    </tr>\n",
              "  </thead>\n",
              "  <tbody>\n",
              "    <tr>\n",
              "      <th>0</th>\n",
              "      <td>0.730044</td>\n",
              "      <td>0.427230</td>\n",
              "      <td>0.677589</td>\n",
              "      <td>0.671329</td>\n",
              "    </tr>\n",
              "    <tr>\n",
              "      <th>1</th>\n",
              "      <td>0.702459</td>\n",
              "      <td>0.525822</td>\n",
              "      <td>0.662112</td>\n",
              "      <td>0.755245</td>\n",
              "    </tr>\n",
              "    <tr>\n",
              "      <th>2</th>\n",
              "      <td>0.669456</td>\n",
              "      <td>0.626761</td>\n",
              "      <td>0.649029</td>\n",
              "      <td>0.804196</td>\n",
              "    </tr>\n",
              "    <tr>\n",
              "      <th>3</th>\n",
              "      <td>0.645393</td>\n",
              "      <td>0.685446</td>\n",
              "      <td>0.634092</td>\n",
              "      <td>0.853147</td>\n",
              "    </tr>\n",
              "    <tr>\n",
              "      <th>4</th>\n",
              "      <td>0.636175</td>\n",
              "      <td>0.699531</td>\n",
              "      <td>0.613162</td>\n",
              "      <td>0.902098</td>\n",
              "    </tr>\n",
              "  </tbody>\n",
              "</table>\n",
              "</div>"
            ],
            "text/plain": [
              "       loss  accuracy  val_loss  val_accuracy\n",
              "0  0.730044  0.427230  0.677589      0.671329\n",
              "1  0.702459  0.525822  0.662112      0.755245\n",
              "2  0.669456  0.626761  0.649029      0.804196\n",
              "3  0.645393  0.685446  0.634092      0.853147\n",
              "4  0.636175  0.699531  0.613162      0.902098"
            ]
          },
          "metadata": {},
          "execution_count": 28
        }
      ]
    },
    {
      "cell_type": "code",
      "metadata": {
        "colab": {
          "base_uri": "https://localhost:8080/",
          "height": 282
        },
        "id": "vGTcC8_micv3",
        "outputId": "ba7e3894-938d-412e-902b-2814b5adca46"
      },
      "source": [
        "model_loss.plot()"
      ],
      "execution_count": null,
      "outputs": [
        {
          "output_type": "execute_result",
          "data": {
            "text/plain": [
              "<matplotlib.axes._subplots.AxesSubplot at 0x7efc74c6d050>"
            ]
          },
          "metadata": {},
          "execution_count": 35
        },
        {
          "output_type": "display_data",
          "data": {
            "image/png": "[encoded data removed]",
            "text/plain": [
              "<Figure size 432x288 with 1 Axes>"
            ]
          },
          "metadata": {
            "needs_background": "light"
          }
        }
      ]
    },
    {
      "cell_type": "code",
      "metadata": {
        "colab": {
          "base_uri": "https://localhost:8080/"
        },
        "id": "76D4mrFqjWQy",
        "outputId": "89814c20-06a0-4877-c118-3ca856d935d4"
      },
      "source": [
        "#Checking the maximum loss\n",
        "model_loss.max()"
      ],
      "execution_count": null,
      "outputs": [
        {
          "output_type": "execute_result",
          "data": {
            "text/plain": [
              "loss            0.730044\n",
              "accuracy        0.983568\n",
              "val_loss        0.677589\n",
              "val_accuracy    0.986014\n",
              "dtype: float64"
            ]
          },
          "metadata": {},
          "execution_count": 30
        }
      ]
    },
    {
      "cell_type": "code",
      "metadata": {
        "colab": {
          "base_uri": "https://localhost:8080/"
        },
        "id": "773XLvPVkGo3",
        "outputId": "a9a45e78-30b9-4a6c-d822-772b332786bb"
      },
      "source": [
        "#Checking the minimum loss \n",
        "model_loss.min()"
      ],
      "execution_count": null,
      "outputs": [
        {
          "output_type": "execute_result",
          "data": {
            "text/plain": [
              "loss            0.059442\n",
              "accuracy        0.427230\n",
              "val_loss        0.084790\n",
              "val_accuracy    0.671329\n",
              "dtype: float64"
            ]
          },
          "metadata": {},
          "execution_count": 31
        }
      ]
    },
    {
      "cell_type": "code",
      "metadata": {
        "id": "_nir5vZ00sRK"
      },
      "source": [
        "pred = model.predict(X_test)"
      ],
      "execution_count": null,
      "outputs": []
    },
    {
      "cell_type": "code",
      "metadata": {
        "colab": {
          "base_uri": "https://localhost:8080/"
        },
        "id": "v9TsX_kNpClw",
        "outputId": "ce6ff462-d248-4a31-a0c6-23e1f0a91810"
      },
      "source": [
        "score= model.evaluate(X_test, y_test)\n",
        "print('Test Score:',score[0])\n",
        "print('Test Accuracy:',score[1])"
      ],
      "execution_count": null,
      "outputs": [
        {
          "output_type": "stream",
          "text": [
            "5/5 [==============================] - 0s 2ms/step - loss: 0.0908 - accuracy: 0.9720\n",
            "Test Score: 0.09084095060825348\n",
            "Test Accuracy: 0.9720279574394226\n"
          ],
          "name": "stdout"
        }
      ]
    }
  ]
}