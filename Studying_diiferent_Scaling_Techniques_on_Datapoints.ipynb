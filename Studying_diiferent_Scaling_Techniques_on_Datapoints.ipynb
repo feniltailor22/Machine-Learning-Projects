{
  "nbformat": 4,
  "nbformat_minor": 0,
  "metadata": {
    "colab": {
      "name": "Studying diiferent Scaling Techniques on Datapoints.ipynb",
      "provenance": [],
      "collapsed_sections": [],
      "mount_file_id": "1WpNNo-t7jlCVj5DrpzeXJxIG7ryHbeVq",
      "authorship_tag": "ABX9TyNAxtx8p1FD7HsKX9HUEhwy",
      "include_colab_link": true
    },
    "kernelspec": {
      "name": "python3",
      "display_name": "Python 3"
    },
    "language_info": {
      "name": "python"
    }
  },
  "cells": [
    {
      "cell_type": "markdown",
      "metadata": {
        "id": "view-in-github",
        "colab_type": "text"
      },
      "source": [
        "<a href=\"https://colab.research.google.com/github/feniltailor22/Machine-Learning-Projects/blob/main/Studying_diiferent_Scaling_Techniques_on_Datapoints.ipynb\" target=\"_parent\"><img src=\"https://colab.research.google.com/assets/colab-badge.svg\" alt=\"Open In Colab\"/></a>"
      ]
    },
    {
      "cell_type": "code",
      "metadata": {
        "id": "fvAzb1sLjsou"
      },
      "source": [
        "import numpy as np\n",
        "import pandas as pd\n",
        "import matplotlib.pyplot as plt\n",
        "import seaborn as sns"
      ],
      "execution_count": null,
      "outputs": []
    },
    {
      "cell_type": "code",
      "metadata": {
        "id": "QONaEbv7kBt6"
      },
      "source": [
        "#data\n",
        "x=pd.DataFrame(\n",
        "    {#distribution with lower outliers\n",
        "     'x1': np.concatenate([np.random.normal(20,2,1000),np.random.normal(1,2,25)]),\n",
        "     #distribution with higher outliers\n",
        "     'x2': np.concatenate([np.random.normal(30,2,1000),np.random.normal(50,2,25)])\n",
        "     }\n",
        ")"
      ],
      "execution_count": null,
      "outputs": []
    },
    {
      "cell_type": "code",
      "metadata": {
        "colab": {
          "base_uri": "https://localhost:8080/",
          "height": 204
        },
        "id": "a0GTvw77qcX9",
        "outputId": "e101ed07-6da6-43df-dec5-dfef65b67fc2"
      },
      "source": [
        "x.head()"
      ],
      "execution_count": null,
      "outputs": [
        {
          "output_type": "execute_result",
          "data": {
            "text/html": [
              "<div>\n",
              "<style scoped>\n",
              "    .dataframe tbody tr th:only-of-type {\n",
              "        vertical-align: middle;\n",
              "    }\n",
              "\n",
              "    .dataframe tbody tr th {\n",
              "        vertical-align: top;\n",
              "    }\n",
              "\n",
              "    .dataframe thead th {\n",
              "        text-align: right;\n",
              "    }\n",
              "</style>\n",
              "<table border=\"1\" class=\"dataframe\">\n",
              "  <thead>\n",
              "    <tr style=\"text-align: right;\">\n",
              "      <th></th>\n",
              "      <th>x1</th>\n",
              "      <th>x2</th>\n",
              "    </tr>\n",
              "  </thead>\n",
              "  <tbody>\n",
              "    <tr>\n",
              "      <th>0</th>\n",
              "      <td>22.169245</td>\n",
              "      <td>27.762301</td>\n",
              "    </tr>\n",
              "    <tr>\n",
              "      <th>1</th>\n",
              "      <td>19.971654</td>\n",
              "      <td>26.655541</td>\n",
              "    </tr>\n",
              "    <tr>\n",
              "      <th>2</th>\n",
              "      <td>21.389953</td>\n",
              "      <td>29.418722</td>\n",
              "    </tr>\n",
              "    <tr>\n",
              "      <th>3</th>\n",
              "      <td>17.553021</td>\n",
              "      <td>30.916599</td>\n",
              "    </tr>\n",
              "    <tr>\n",
              "      <th>4</th>\n",
              "      <td>24.160048</td>\n",
              "      <td>32.052543</td>\n",
              "    </tr>\n",
              "  </tbody>\n",
              "</table>\n",
              "</div>"
            ],
            "text/plain": [
              "          x1         x2\n",
              "0  22.169245  27.762301\n",
              "1  19.971654  26.655541\n",
              "2  21.389953  29.418722\n",
              "3  17.553021  30.916599\n",
              "4  24.160048  32.052543"
            ]
          },
          "metadata": {
            "tags": []
          },
          "execution_count": 8
        }
      ]
    },
    {
      "cell_type": "code",
      "metadata": {
        "id": "zZt18bkqmPe1"
      },
      "source": [
        "#First we have to use Robust Scaler to remove the ouliers.\n",
        "#Then we can use Standard Scaler or MinMax Scaler for preprocessing the data. "
      ],
      "execution_count": null,
      "outputs": []
    },
    {
      "cell_type": "code",
      "metadata": {
        "id": "gbbaotJMrleN"
      },
      "source": [
        "#Firstly, we will check the feature scaling for each scaling method seperately.\n",
        "#Then we will implement above scaling method."
      ],
      "execution_count": null,
      "outputs": []
    },
    {
      "cell_type": "code",
      "metadata": {
        "id": "Wf-GR-j6pYQb"
      },
      "source": [
        "from sklearn.preprocessing import RobustScaler"
      ],
      "execution_count": null,
      "outputs": []
    },
    {
      "cell_type": "code",
      "metadata": {
        "id": "e-hZcMvOpmDF"
      },
      "source": [
        "Rob_Scal= RobustScaler()"
      ],
      "execution_count": null,
      "outputs": []
    },
    {
      "cell_type": "code",
      "metadata": {
        "id": "tm7f-QnEptWZ"
      },
      "source": [
        "robust_x= Rob_Scal.fit_transform(x)"
      ],
      "execution_count": null,
      "outputs": []
    },
    {
      "cell_type": "code",
      "metadata": {
        "colab": {
          "base_uri": "https://localhost:8080/",
          "height": 204
        },
        "id": "B-aDjlccp7mG",
        "outputId": "d34c9ad9-a5b6-4626-dd74-cc2864f58b67"
      },
      "source": [
        "robust_x_df= pd.DataFrame(data=robust_x, columns= ['x1','x2'])\n",
        "robust_x_df.head()"
      ],
      "execution_count": null,
      "outputs": [
        {
          "output_type": "execute_result",
          "data": {
            "text/html": [
              "<div>\n",
              "<style scoped>\n",
              "    .dataframe tbody tr th:only-of-type {\n",
              "        vertical-align: middle;\n",
              "    }\n",
              "\n",
              "    .dataframe tbody tr th {\n",
              "        vertical-align: top;\n",
              "    }\n",
              "\n",
              "    .dataframe thead th {\n",
              "        text-align: right;\n",
              "    }\n",
              "</style>\n",
              "<table border=\"1\" class=\"dataframe\">\n",
              "  <thead>\n",
              "    <tr style=\"text-align: right;\">\n",
              "      <th></th>\n",
              "      <th>x1</th>\n",
              "      <th>x2</th>\n",
              "    </tr>\n",
              "  </thead>\n",
              "  <tbody>\n",
              "    <tr>\n",
              "      <th>0</th>\n",
              "      <td>0.817266</td>\n",
              "      <td>-0.829566</td>\n",
              "    </tr>\n",
              "    <tr>\n",
              "      <th>1</th>\n",
              "      <td>0.031031</td>\n",
              "      <td>-1.222356</td>\n",
              "    </tr>\n",
              "    <tr>\n",
              "      <th>2</th>\n",
              "      <td>0.538457</td>\n",
              "      <td>-0.241701</td>\n",
              "    </tr>\n",
              "    <tr>\n",
              "      <th>3</th>\n",
              "      <td>-0.834286</td>\n",
              "      <td>0.289896</td>\n",
              "    </tr>\n",
              "    <tr>\n",
              "      <th>4</th>\n",
              "      <td>1.529518</td>\n",
              "      <td>0.693043</td>\n",
              "    </tr>\n",
              "  </tbody>\n",
              "</table>\n",
              "</div>"
            ],
            "text/plain": [
              "         x1        x2\n",
              "0  0.817266 -0.829566\n",
              "1  0.031031 -1.222356\n",
              "2  0.538457 -0.241701\n",
              "3 -0.834286  0.289896\n",
              "4  1.529518  0.693043"
            ]
          },
          "metadata": {
            "tags": []
          },
          "execution_count": 7
        }
      ]
    },
    {
      "cell_type": "code",
      "metadata": {
        "id": "0V0xqcaqqV8V"
      },
      "source": [
        "from sklearn.preprocessing import StandardScaler"
      ],
      "execution_count": null,
      "outputs": []
    },
    {
      "cell_type": "code",
      "metadata": {
        "id": "Iiak2TZEqynC"
      },
      "source": [
        "Std_Scal= StandardScaler()"
      ],
      "execution_count": null,
      "outputs": []
    },
    {
      "cell_type": "code",
      "metadata": {
        "id": "dVWSaE9hq7A3"
      },
      "source": [
        "Std_Scal_x= Std_Scal.fit_transform(x)"
      ],
      "execution_count": null,
      "outputs": []
    },
    {
      "cell_type": "code",
      "metadata": {
        "colab": {
          "base_uri": "https://localhost:8080/",
          "height": 204
        },
        "id": "90Ht1p6zrHDj",
        "outputId": "c544fb8e-72e0-4ea6-cfe7-3415f0d8b32b"
      },
      "source": [
        "Std_Scal_x_df= pd.DataFrame(Std_Scal_x, columns=['x1','x2'])\n",
        "Std_Scal_x_df.head()"
      ],
      "execution_count": null,
      "outputs": [
        {
          "output_type": "execute_result",
          "data": {
            "text/html": [
              "<div>\n",
              "<style scoped>\n",
              "    .dataframe tbody tr th:only-of-type {\n",
              "        vertical-align: middle;\n",
              "    }\n",
              "\n",
              "    .dataframe tbody tr th {\n",
              "        vertical-align: top;\n",
              "    }\n",
              "\n",
              "    .dataframe thead th {\n",
              "        text-align: right;\n",
              "    }\n",
              "</style>\n",
              "<table border=\"1\" class=\"dataframe\">\n",
              "  <thead>\n",
              "    <tr style=\"text-align: right;\">\n",
              "      <th></th>\n",
              "      <th>x1</th>\n",
              "      <th>x2</th>\n",
              "    </tr>\n",
              "  </thead>\n",
              "  <tbody>\n",
              "    <tr>\n",
              "      <th>0</th>\n",
              "      <td>0.755256</td>\n",
              "      <td>-0.755069</td>\n",
              "    </tr>\n",
              "    <tr>\n",
              "      <th>1</th>\n",
              "      <td>0.138260</td>\n",
              "      <td>-1.054725</td>\n",
              "    </tr>\n",
              "    <tr>\n",
              "      <th>2</th>\n",
              "      <td>0.536462</td>\n",
              "      <td>-0.306593</td>\n",
              "    </tr>\n",
              "    <tr>\n",
              "      <th>3</th>\n",
              "      <td>-0.540795</td>\n",
              "      <td>0.098958</td>\n",
              "    </tr>\n",
              "    <tr>\n",
              "      <th>4</th>\n",
              "      <td>1.314194</td>\n",
              "      <td>0.406515</td>\n",
              "    </tr>\n",
              "  </tbody>\n",
              "</table>\n",
              "</div>"
            ],
            "text/plain": [
              "         x1        x2\n",
              "0  0.755256 -0.755069\n",
              "1  0.138260 -1.054725\n",
              "2  0.536462 -0.306593\n",
              "3 -0.540795  0.098958\n",
              "4  1.314194  0.406515"
            ]
          },
          "metadata": {
            "tags": []
          },
          "execution_count": 14
        }
      ]
    },
    {
      "cell_type": "code",
      "metadata": {
        "id": "B4aO75Orrc4D"
      },
      "source": [
        "from sklearn.preprocessing import MinMaxScaler"
      ],
      "execution_count": null,
      "outputs": []
    },
    {
      "cell_type": "code",
      "metadata": {
        "id": "Hpu6X8T9sCmQ"
      },
      "source": [
        "MM_Scal= MinMaxScaler()"
      ],
      "execution_count": null,
      "outputs": []
    },
    {
      "cell_type": "code",
      "metadata": {
        "id": "Z1MAfwx0sGVa"
      },
      "source": [
        "MM_Scal_x= MM_Scal.fit_transform(x)"
      ],
      "execution_count": null,
      "outputs": []
    },
    {
      "cell_type": "code",
      "metadata": {
        "colab": {
          "base_uri": "https://localhost:8080/",
          "height": 204
        },
        "id": "pLOYCUxisJ2f",
        "outputId": "9d018814-0848-4647-ffe7-cc6d4c5d9f5a"
      },
      "source": [
        "MM_Scal_x_df= pd.DataFrame(MM_Scal_x, columns=['x1','x2'])\n",
        "MM_Scal_x_df.head()"
      ],
      "execution_count": null,
      "outputs": [
        {
          "output_type": "execute_result",
          "data": {
            "text/html": [
              "<div>\n",
              "<style scoped>\n",
              "    .dataframe tbody tr th:only-of-type {\n",
              "        vertical-align: middle;\n",
              "    }\n",
              "\n",
              "    .dataframe tbody tr th {\n",
              "        vertical-align: top;\n",
              "    }\n",
              "\n",
              "    .dataframe thead th {\n",
              "        text-align: right;\n",
              "    }\n",
              "</style>\n",
              "<table border=\"1\" class=\"dataframe\">\n",
              "  <thead>\n",
              "    <tr style=\"text-align: right;\">\n",
              "      <th></th>\n",
              "      <th>x1</th>\n",
              "      <th>x2</th>\n",
              "    </tr>\n",
              "  </thead>\n",
              "  <tbody>\n",
              "    <tr>\n",
              "      <th>0</th>\n",
              "      <td>0.875880</td>\n",
              "      <td>0.159055</td>\n",
              "    </tr>\n",
              "    <tr>\n",
              "      <th>1</th>\n",
              "      <td>0.801976</td>\n",
              "      <td>0.122443</td>\n",
              "    </tr>\n",
              "    <tr>\n",
              "      <th>2</th>\n",
              "      <td>0.849673</td>\n",
              "      <td>0.213850</td>\n",
              "    </tr>\n",
              "    <tr>\n",
              "      <th>3</th>\n",
              "      <td>0.720639</td>\n",
              "      <td>0.263399</td>\n",
              "    </tr>\n",
              "    <tr>\n",
              "      <th>4</th>\n",
              "      <td>0.942829</td>\n",
              "      <td>0.300977</td>\n",
              "    </tr>\n",
              "  </tbody>\n",
              "</table>\n",
              "</div>"
            ],
            "text/plain": [
              "         x1        x2\n",
              "0  0.875880  0.159055\n",
              "1  0.801976  0.122443\n",
              "2  0.849673  0.213850\n",
              "3  0.720639  0.263399\n",
              "4  0.942829  0.300977"
            ]
          },
          "metadata": {
            "tags": []
          },
          "execution_count": 20
        }
      ]
    },
    {
      "cell_type": "code",
      "metadata": {
        "colab": {
          "base_uri": "https://localhost:8080/",
          "height": 350
        },
        "id": "m2SmKnESsQ-S",
        "outputId": "8a1adb60-18c1-4e3f-e25a-e1335d149de4"
      },
      "source": [
        "#Plotting KDE Curve for above three Scaling Methods:\n",
        "fig, (ax1, ax2, ax3, ax4)= plt.subplots(ncols=4, figsize=(20,5))\n",
        "\n",
        "sns.kdeplot(x['x1'], ax=ax1, color='r')\n",
        "sns.kdeplot(x['x2'], ax=ax1, color='b')\n",
        "ax2.set_title('After Robust Scaling')\n",
        "\n",
        "sns.kdeplot(robust_x_df['x1'], ax=ax2, color='r')\n",
        "sns.kdeplot(robust_x_df['x2'], ax=ax2, color='b')\n",
        "ax3.set_title('After Standard Scaling')\n",
        "\n",
        "sns.kdeplot(Std_Scal_x_df['x1'], ax=ax3, color='r')\n",
        "sns.kdeplot(Std_Scal_x_df['x2'], ax=ax3, color='b')\n",
        "ax4.set_title('After MinMax Scaling')\n",
        "\n",
        "sns.kdeplot(MM_Scal_x_df['x1'], ax=ax4, color='r')\n",
        "sns.kdeplot(MM_Scal_x_df['x2'], ax=ax4, color='b')\n",
        "plt.show()"
      ],
      "execution_count": null,
      "outputs": [
        {
          "output_type": "display_data",
          "data": {
            "image/png": "[encoded data removed]",
            "text/plain": [
              "<Figure size 1440x360 with 4 Axes>"
            ]
          },
          "metadata": {
            "tags": [],
            "needs_background": "light"
          }
        }
      ]
    }
  ]
}