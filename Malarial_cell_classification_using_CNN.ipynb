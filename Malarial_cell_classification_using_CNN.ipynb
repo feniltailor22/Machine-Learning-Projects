{
  "nbformat": 4,
  "nbformat_minor": 0,
  "metadata": {
    "colab": {
      "name": "Malarial cell classification using CNN.ipynb",
      "provenance": [],
      "collapsed_sections": [],
      "authorship_tag": "ABX9TyMKsaKei6Wku1WTz+VLe3vp",
      "include_colab_link": true
    },
    "kernelspec": {
      "name": "python3",
      "display_name": "Python 3"
    },
    "language_info": {
      "name": "python"
    },
    "accelerator": "GPU"
  },
  "cells": [
    {
      "cell_type": "markdown",
      "metadata": {
        "id": "view-in-github",
        "colab_type": "text"
      },
      "source": [
        "<a href=\"https://colab.research.google.com/github/feniltailor22/Machine_Learning/blob/main/Malarial_cell_classification_using_CNN.ipynb\" target=\"_parent\"><img src=\"https://colab.research.google.com/assets/colab-badge.svg\" alt=\"Open In Colab\"/></a>"
      ]
    },
    {
      "cell_type": "code",
      "metadata": {
        "id": "Hmpl0OkMQBF4"
      },
      "source": [
        "import numpy as np\n",
        "import cv2\n",
        "import os\n",
        "import keras\n",
        "import pandas as pd"
      ],
      "execution_count": 35,
      "outputs": []
    },
    {
      "cell_type": "code",
      "metadata": {
        "id": "fW-srkRgVMDl"
      },
      "source": [
        "np.random.seed(1000)"
      ],
      "execution_count": 6,
      "outputs": []
    },
    {
      "cell_type": "code",
      "metadata": {
        "colab": {
          "base_uri": "https://localhost:8080/"
        },
        "id": "NC8T4eNGubiX",
        "outputId": "a1ecdf71-4f74-4ec7-df83-0b8220bcab4e"
      },
      "source": [
        "from google.colab import drive\n",
        "drive.mount('/content/drive/')"
      ],
      "execution_count": 7,
      "outputs": [
        {
          "output_type": "stream",
          "name": "stdout",
          "text": [
            "Mounted at /content/drive/\n"
          ]
        }
      ]
    },
    {
      "cell_type": "code",
      "metadata": {
        "id": "7GsHStZgPxqt"
      },
      "source": [
        "image_directory = '/content/drive/MyDrive/Cell/'"
      ],
      "execution_count": 8,
      "outputs": []
    },
    {
      "cell_type": "code",
      "metadata": {
        "id": "F7oXX0GHZJGw"
      },
      "source": [
        "train_path = '/content/drive/MyDrive/Cell/Train'\n",
        "valid_path = '/content/drive/MyDrive/Cell/Test'"
      ],
      "execution_count": 10,
      "outputs": []
    },
    {
      "cell_type": "code",
      "metadata": {
        "id": "25qGdlEQdiT2"
      },
      "source": [
        "from tensorflow.keras.models import Sequential\n",
        "from tensorflow.keras.layers import Dense, Conv2D, MaxPool2D, Flatten, BatchNormalization, Dropout"
      ],
      "execution_count": 11,
      "outputs": []
    },
    {
      "cell_type": "code",
      "metadata": {
        "id": "d8I68T4-eKJq"
      },
      "source": [
        "model= Sequential()\n",
        "\n",
        "model.add(Conv2D(filters=32, kernel_size=(3,3), input_shape= (64,64,3), activation='relu'))  #Convolutional Layer\n",
        "model.add(MaxPool2D(pool_size=(2,2))) #Pooling Layer\n",
        "model.add(BatchNormalization(axis= -1)) #Normalization Layer\n",
        "model.add(Dropout(rate=0.2)) #Random DropOut Layer"
      ],
      "execution_count": 12,
      "outputs": []
    },
    {
      "cell_type": "code",
      "metadata": {
        "id": "uPjw16ECfFCl"
      },
      "source": [
        "model.add(Conv2D(filters=32, kernel_size=(3,3), activation='relu'))  #Convolutional Layer\n",
        "model.add(MaxPool2D(pool_size=(2,2))) #Pooling Layer\n",
        "model.add(BatchNormalization(axis= -1)) #Normalization Layer\n",
        "model.add(Dropout(rate=0.2)) #Random DropOut Layer"
      ],
      "execution_count": 13,
      "outputs": []
    },
    {
      "cell_type": "code",
      "metadata": {
        "id": "FyprH8v4gsET"
      },
      "source": [
        "model.add(Flatten())"
      ],
      "execution_count": 14,
      "outputs": []
    },
    {
      "cell_type": "code",
      "metadata": {
        "id": "bNkzhnc2gv3m"
      },
      "source": [
        "model.add(Dense(units=512, activation='relu')) #Second Last Hidden Layer\n",
        "model.add(BatchNormalization(axis= -1)) #Normalization Layer\n",
        "model.add(Dropout(rate=0.2)) #Random DropOut Layer"
      ],
      "execution_count": 15,
      "outputs": []
    },
    {
      "cell_type": "code",
      "metadata": {
        "id": "CNbBCG-vhNFt"
      },
      "source": [
        "model.add(Dense(units=256, activation='relu')) #Last Hidden Layer\n",
        "model.add(BatchNormalization(axis= -1)) #Normalization Layer\n",
        "model.add(Dropout(rate=0.2)) #Random DropOut Layer"
      ],
      "execution_count": 16,
      "outputs": []
    },
    {
      "cell_type": "code",
      "metadata": {
        "id": "NBynTlBuhc2L"
      },
      "source": [
        "model.add(Dense(units=2, activation='sigmoid')) #Output Layer"
      ],
      "execution_count": 17,
      "outputs": []
    },
    {
      "cell_type": "code",
      "metadata": {
        "id": "EHYLJNNZh2ZX"
      },
      "source": [
        "model.compile(loss='categorical_crossentropy', optimizer='adam', metrics=['accuracy'])"
      ],
      "execution_count": 18,
      "outputs": []
    },
    {
      "cell_type": "code",
      "metadata": {
        "colab": {
          "base_uri": "https://localhost:8080/"
        },
        "id": "LL-XpnRGiBOc",
        "outputId": "35246971-3108-4ca6-8878-e97f72a7c673"
      },
      "source": [
        "model.summary()"
      ],
      "execution_count": 19,
      "outputs": [
        {
          "output_type": "stream",
          "name": "stdout",
          "text": [
            "Model: \"sequential\"\n",
            "_________________________________________________________________\n",
            "Layer (type)                 Output Shape              Param #   \n",
            "=================================================================\n",
            "conv2d (Conv2D)              (None, 62, 62, 32)        896       \n",
            "_________________________________________________________________\n",
            "max_pooling2d (MaxPooling2D) (None, 31, 31, 32)        0         \n",
            "_________________________________________________________________\n",
            "batch_normalization (BatchNo (None, 31, 31, 32)        128       \n",
            "_________________________________________________________________\n",
            "dropout (Dropout)            (None, 31, 31, 32)        0         \n",
            "_________________________________________________________________\n",
            "conv2d_1 (Conv2D)            (None, 29, 29, 32)        9248      \n",
            "_________________________________________________________________\n",
            "max_pooling2d_1 (MaxPooling2 (None, 14, 14, 32)        0         \n",
            "_________________________________________________________________\n",
            "batch_normalization_1 (Batch (None, 14, 14, 32)        128       \n",
            "_________________________________________________________________\n",
            "dropout_1 (Dropout)          (None, 14, 14, 32)        0         \n",
            "_________________________________________________________________\n",
            "flatten (Flatten)            (None, 6272)              0         \n",
            "_________________________________________________________________\n",
            "dense (Dense)                (None, 512)               3211776   \n",
            "_________________________________________________________________\n",
            "batch_normalization_2 (Batch (None, 512)               2048      \n",
            "_________________________________________________________________\n",
            "dropout_2 (Dropout)          (None, 512)               0         \n",
            "_________________________________________________________________\n",
            "dense_1 (Dense)              (None, 256)               131328    \n",
            "_________________________________________________________________\n",
            "batch_normalization_3 (Batch (None, 256)               1024      \n",
            "_________________________________________________________________\n",
            "dropout_3 (Dropout)          (None, 256)               0         \n",
            "_________________________________________________________________\n",
            "dense_2 (Dense)              (None, 2)                 514       \n",
            "=================================================================\n",
            "Total params: 3,357,090\n",
            "Trainable params: 3,355,426\n",
            "Non-trainable params: 1,664\n",
            "_________________________________________________________________\n"
          ]
        }
      ]
    },
    {
      "cell_type": "code",
      "metadata": {
        "id": "cJNUAzkliFbf"
      },
      "source": [
        "from keras.preprocessing.image import ImageDataGenerator"
      ],
      "execution_count": 20,
      "outputs": []
    },
    {
      "cell_type": "code",
      "metadata": {
        "id": "uEg_RrgqZ47y"
      },
      "source": [
        "train_datagen= ImageDataGenerator(rescale=1./255, shear_range=0.2, zoom_range=0.2, horizontal_flip=True)\n",
        "test_datagen = ImageDataGenerator(rescale = 1./255)"
      ],
      "execution_count": 21,
      "outputs": []
    },
    {
      "cell_type": "code",
      "metadata": {
        "colab": {
          "base_uri": "https://localhost:8080/"
        },
        "id": "KqTWpe3-aI4k",
        "outputId": "191e141b-d927-4cff-be56-045431c368c6"
      },
      "source": [
        "training_set = train_datagen.flow_from_directory('/content/drive/MyDrive/Cell/Train',\n",
        "                                                 target_size = (64, 64),\n",
        "                                                 batch_size = 3,\n",
        "                                                 class_mode = 'categorical')"
      ],
      "execution_count": 22,
      "outputs": [
        {
          "output_type": "stream",
          "name": "stdout",
          "text": [
            "Found 1696 images belonging to 2 classes.\n"
          ]
        }
      ]
    },
    {
      "cell_type": "code",
      "metadata": {
        "colab": {
          "base_uri": "https://localhost:8080/"
        },
        "id": "LbSvV8OBaWCW",
        "outputId": "2ba913ed-4fd3-4824-c45a-6f45b7bd855f"
      },
      "source": [
        "test_set = test_datagen.flow_from_directory('/content/drive/MyDrive/Cell/Test',\n",
        "                                            target_size = (64, 64),\n",
        "                                            batch_size = 2,\n",
        "                                            class_mode = 'categorical')"
      ],
      "execution_count": 23,
      "outputs": [
        {
          "output_type": "stream",
          "name": "stdout",
          "text": [
            "Found 64 images belonging to 2 classes.\n"
          ]
        }
      ]
    },
    {
      "cell_type": "code",
      "metadata": {
        "colab": {
          "base_uri": "https://localhost:8080/"
        },
        "id": "AEfr3rOHaxjl",
        "outputId": "5cb3af32-9169-4dfc-fe67-2eb74458aae5"
      },
      "source": [
        "model.fit_generator(training_set,          \n",
        "          epochs=10,\n",
        "          validation_data=test_set,\n",
        "          verbose=True\n",
        "          )"
      ],
      "execution_count": 33,
      "outputs": [
        {
          "output_type": "stream",
          "name": "stdout",
          "text": [
            "Epoch 1/10\n",
            "  4/566 [..............................] - ETA: 10s - loss: 0.9062 - accuracy: 0.6667"
          ]
        },
        {
          "output_type": "stream",
          "name": "stderr",
          "text": [
            "/usr/local/lib/python3.7/dist-packages/keras/engine/training.py:1972: UserWarning: `Model.fit_generator` is deprecated and will be removed in a future version. Please use `Model.fit`, which supports generators.\n",
            "  warnings.warn('`Model.fit_generator` is deprecated and '\n"
          ]
        },
        {
          "output_type": "stream",
          "name": "stdout",
          "text": [
            "566/566 [==============================] - 12s 21ms/step - loss: 0.5041 - accuracy: 0.7789 - val_loss: 0.5634 - val_accuracy: 0.7344\n",
            "Epoch 2/10\n",
            "566/566 [==============================] - 12s 21ms/step - loss: 0.4844 - accuracy: 0.7871 - val_loss: 0.9392 - val_accuracy: 0.7031\n",
            "Epoch 3/10\n",
            "566/566 [==============================] - 12s 21ms/step - loss: 0.4889 - accuracy: 0.7783 - val_loss: 1.9881 - val_accuracy: 0.5000\n",
            "Epoch 4/10\n",
            "566/566 [==============================] - 12s 21ms/step - loss: 0.4644 - accuracy: 0.8042 - val_loss: 1.1329 - val_accuracy: 0.5312\n",
            "Epoch 5/10\n",
            "566/566 [==============================] - 12s 21ms/step - loss: 0.4723 - accuracy: 0.8007 - val_loss: 1.6149 - val_accuracy: 0.5000\n",
            "Epoch 6/10\n",
            "566/566 [==============================] - 12s 21ms/step - loss: 0.4449 - accuracy: 0.8078 - val_loss: 0.3112 - val_accuracy: 0.9375\n",
            "Epoch 7/10\n",
            "566/566 [==============================] - 12s 21ms/step - loss: 0.4908 - accuracy: 0.7913 - val_loss: 0.3338 - val_accuracy: 0.9219\n",
            "Epoch 8/10\n",
            "566/566 [==============================] - 12s 21ms/step - loss: 0.4529 - accuracy: 0.8137 - val_loss: 0.4085 - val_accuracy: 0.7969\n",
            "Epoch 9/10\n",
            "566/566 [==============================] - 12s 21ms/step - loss: 0.4433 - accuracy: 0.8137 - val_loss: 1.3956 - val_accuracy: 0.5000\n",
            "Epoch 10/10\n",
            "566/566 [==============================] - 12s 21ms/step - loss: 0.4144 - accuracy: 0.8190 - val_loss: 3.0013 - val_accuracy: 0.5000\n"
          ]
        },
        {
          "output_type": "execute_result",
          "data": {
            "text/plain": [
              "<keras.callbacks.History at 0x7f9c802cd490>"
            ]
          },
          "metadata": {},
          "execution_count": 33
        }
      ]
    },
    {
      "cell_type": "code",
      "metadata": {
        "colab": {
          "base_uri": "https://localhost:8080/"
        },
        "id": "dz4CX7rqgHI4",
        "outputId": "9bed9de1-18a9-47df-93df-b6883bb8be4f"
      },
      "source": [
        "model.metrics_names"
      ],
      "execution_count": 34,
      "outputs": [
        {
          "output_type": "execute_result",
          "data": {
            "text/plain": [
              "['loss', 'accuracy']"
            ]
          },
          "metadata": {},
          "execution_count": 34
        }
      ]
    },
    {
      "cell_type": "code",
      "metadata": {
        "id": "bX5LJncQgHtD"
      },
      "source": [
        "losses= pd.DataFrame(data=model.history.history)"
      ],
      "execution_count": 36,
      "outputs": []
    },
    {
      "cell_type": "code",
      "metadata": {
        "colab": {
          "base_uri": "https://localhost:8080/",
          "height": 206
        },
        "id": "ekb2XaVOgQzD",
        "outputId": "8331cb79-9af6-4ac9-d0b6-c31575a25c63"
      },
      "source": [
        "losses.head()\n"
      ],
      "execution_count": 37,
      "outputs": [
        {
          "output_type": "execute_result",
          "data": {
            "text/html": [
              "<div>\n",
              "<style scoped>\n",
              "    .dataframe tbody tr th:only-of-type {\n",
              "        vertical-align: middle;\n",
              "    }\n",
              "\n",
              "    .dataframe tbody tr th {\n",
              "        vertical-align: top;\n",
              "    }\n",
              "\n",
              "    .dataframe thead th {\n",
              "        text-align: right;\n",
              "    }\n",
              "</style>\n",
              "<table border=\"1\" class=\"dataframe\">\n",
              "  <thead>\n",
              "    <tr style=\"text-align: right;\">\n",
              "      <th></th>\n",
              "      <th>loss</th>\n",
              "      <th>accuracy</th>\n",
              "      <th>val_loss</th>\n",
              "      <th>val_accuracy</th>\n",
              "    </tr>\n",
              "  </thead>\n",
              "  <tbody>\n",
              "    <tr>\n",
              "      <th>0</th>\n",
              "      <td>0.504098</td>\n",
              "      <td>0.778892</td>\n",
              "      <td>0.563352</td>\n",
              "      <td>0.734375</td>\n",
              "    </tr>\n",
              "    <tr>\n",
              "      <th>1</th>\n",
              "      <td>0.484351</td>\n",
              "      <td>0.787146</td>\n",
              "      <td>0.939211</td>\n",
              "      <td>0.703125</td>\n",
              "    </tr>\n",
              "    <tr>\n",
              "      <th>2</th>\n",
              "      <td>0.488877</td>\n",
              "      <td>0.778302</td>\n",
              "      <td>1.988133</td>\n",
              "      <td>0.500000</td>\n",
              "    </tr>\n",
              "    <tr>\n",
              "      <th>3</th>\n",
              "      <td>0.464382</td>\n",
              "      <td>0.804245</td>\n",
              "      <td>1.132913</td>\n",
              "      <td>0.531250</td>\n",
              "    </tr>\n",
              "    <tr>\n",
              "      <th>4</th>\n",
              "      <td>0.472265</td>\n",
              "      <td>0.800708</td>\n",
              "      <td>1.614945</td>\n",
              "      <td>0.500000</td>\n",
              "    </tr>\n",
              "  </tbody>\n",
              "</table>\n",
              "</div>"
            ],
            "text/plain": [
              "       loss  accuracy  val_loss  val_accuracy\n",
              "0  0.504098  0.778892  0.563352      0.734375\n",
              "1  0.484351  0.787146  0.939211      0.703125\n",
              "2  0.488877  0.778302  1.988133      0.500000\n",
              "3  0.464382  0.804245  1.132913      0.531250\n",
              "4  0.472265  0.800708  1.614945      0.500000"
            ]
          },
          "metadata": {},
          "execution_count": 37
        }
      ]
    },
    {
      "cell_type": "code",
      "metadata": {
        "colab": {
          "base_uri": "https://localhost:8080/",
          "height": 282
        },
        "id": "7SeNkX7vgW3W",
        "outputId": "ad3113f0-4376-4274-eb4a-1fdbe850c849"
      },
      "source": [
        "losses[['accuracy','val_accuracy']].plot()"
      ],
      "execution_count": 39,
      "outputs": [
        {
          "output_type": "execute_result",
          "data": {
            "text/plain": [
              "<matplotlib.axes._subplots.AxesSubplot at 0x7f9c80a424d0>"
            ]
          },
          "metadata": {},
          "execution_count": 39
        },
        {
          "output_type": "display_data",
          "data": {
            "image/png": "[encoded data removed]",
            "text/plain": [
              "<Figure size 432x288 with 1 Axes>"
            ]
          },
          "metadata": {
            "needs_background": "light"
          }
        }
      ]
    },
    {
      "cell_type": "code",
      "metadata": {
        "colab": {
          "base_uri": "https://localhost:8080/"
        },
        "id": "wvmXC8cdhkso",
        "outputId": "c0d067e8-3ad2-450c-b66c-dea13bf78c7c"
      },
      "source": [
        "losses.max()"
      ],
      "execution_count": 48,
      "outputs": [
        {
          "output_type": "execute_result",
          "data": {
            "text/plain": [
              "loss            0.504098\n",
              "accuracy        0.818986\n",
              "val_loss        3.001272\n",
              "val_accuracy    0.937500\n",
              "dtype: float64"
            ]
          },
          "metadata": {},
          "execution_count": 48
        }
      ]
    },
    {
      "cell_type": "code",
      "metadata": {
        "colab": {
          "base_uri": "https://localhost:8080/"
        },
        "id": "YoqenIqxhuS6",
        "outputId": "91fd1a76-c776-47c9-8e7e-ef7f910d04be"
      },
      "source": [
        "losses.min()"
      ],
      "execution_count": 49,
      "outputs": [
        {
          "output_type": "execute_result",
          "data": {
            "text/plain": [
              "loss            0.414442\n",
              "accuracy        0.778302\n",
              "val_loss        0.311178\n",
              "val_accuracy    0.500000\n",
              "dtype: float64"
            ]
          },
          "metadata": {},
          "execution_count": 49
        }
      ]
    },
    {
      "cell_type": "code",
      "metadata": {
        "colab": {
          "base_uri": "https://localhost:8080/",
          "height": 282
        },
        "id": "mhrEuG97gg40",
        "outputId": "781a66dd-cd48-4739-d253-f0aed9c807c3"
      },
      "source": [
        "losses[['loss','val_loss']].plot()"
      ],
      "execution_count": 40,
      "outputs": [
        {
          "output_type": "execute_result",
          "data": {
            "text/plain": [
              "<matplotlib.axes._subplots.AxesSubplot at 0x7f9c809ae890>"
            ]
          },
          "metadata": {},
          "execution_count": 40
        },
        {
          "output_type": "display_data",
          "data": {
            "image/png": "[encoded data removed]",
            "text/plain": [
              "<Figure size 432x288 with 1 Axes>"
            ]
          },
          "metadata": {
            "needs_background": "light"
          }
        }
      ]
    }
  ]
}